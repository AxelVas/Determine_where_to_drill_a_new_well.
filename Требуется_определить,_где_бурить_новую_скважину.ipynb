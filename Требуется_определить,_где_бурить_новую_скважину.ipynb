{
  "nbformat": 4,
  "nbformat_minor": 0,
  "metadata": {
    "kernelspec": {
      "display_name": "Python 3",
      "language": "python",
      "name": "python3"
    },
    "language_info": {
      "codemirror_mode": {
        "name": "ipython",
        "version": 3
      },
      "file_extension": ".py",
      "mimetype": "text/x-python",
      "name": "python",
      "nbconvert_exporter": "python",
      "pygments_lexer": "ipython3",
      "version": "3.8.5"
    },
    "colab": {
      "name": "Требуется определить, где бурить новую скважину. sh.ipynb",
      "provenance": [],
      "collapsed_sections": [],
      "include_colab_link": true
    }
  },
  "cells": [
    {
      "cell_type": "markdown",
      "metadata": {
        "id": "view-in-github",
        "colab_type": "text"
      },
      "source": [
        "<a href=\"https://colab.research.google.com/github/AxelVas/Determine_where_to_drill_a_new_well./blob/main/%D0%A2%D1%80%D0%B5%D0%B1%D1%83%D0%B5%D1%82%D1%81%D1%8F_%D0%BE%D0%BF%D1%80%D0%B5%D0%B4%D0%B5%D0%BB%D0%B8%D1%82%D1%8C%2C_%D0%B3%D0%B4%D0%B5_%D0%B1%D1%83%D1%80%D0%B8%D1%82%D1%8C_%D0%BD%D0%BE%D0%B2%D1%83%D1%8E_%D1%81%D0%BA%D0%B2%D0%B0%D0%B6%D0%B8%D0%BD%D1%83.ipynb\" target=\"_parent\"><img src=\"https://colab.research.google.com/assets/colab-badge.svg\" alt=\"Open In Colab\"/></a>"
      ]
    },
    {
      "cell_type": "markdown",
      "metadata": {
        "id": "Yz0-RnnzGLiR"
      },
      "source": [
        "# Описание проекта"
      ]
    },
    {
      "cell_type": "markdown",
      "metadata": {
        "id": "Bi_xX1zXGLiY"
      },
      "source": [
        "Требуется определить, где бурить новую скважину.\n",
        "\n",
        "В нашем распоряжении имеются пробы нефти в трёх регионах: в каждом 10 000 месторождений, где измерили качество нефти и объём её запасов. Построим модель машинного обучения, которая поможет определить регион, где добыча принесёт наибольшую прибыль. Проанализируем возможную прибыль и риски техникой *Bootstrap.*\n",
        "\n",
        "Шаги для выбора локации:\n",
        "\n",
        "- В избранном регионе ищут месторождения, для каждого определяют значения признаков;\n",
        "- Строят модель и оценивают объём запасов;\n",
        "- Выбирают месторождения с самым высокими оценками значений. Количество месторождений зависит от бюджета компании и стоимости разработки одной скважины;\n",
        "- Прибыль равна суммарной прибыли отобранных месторождений.\n",
        "\n",
        "---\n",
        "# Содержание проекта\n",
        "<a id='start'></a>\n",
        "\n",
        "### 1. Загрузка и подготовка данных\n",
        "   * <a href='#step_1'> Загружаем библиотеки </a>\n",
        "   * <a href='#step_1.1'> Загрузим данные геологоразведки трёх регионов </a>\n",
        "       * <a href='#step_1.1'> Данные геологоразведки 1 региона </a>\n",
        "       * <a href='#step_1.2'> Данные геологоразведки 2 региона</a>   \n",
        "       * <a href='#step_1.3'> Данные геологоразведки 3 региона</a>\n",
        "       \n",
        "   * <a href='#step_1.5'>Построим графики зависимостей значений в таблице для наглядного представления о распределнии данных</a>\n",
        "   * <a href='#step_1.end'> Вывод </a>\n",
        "   \n",
        "### 2. Обучение и проверка модели\n",
        "   * <a href='#step_2'> Разобём данные на обучающую и валидационную выборки в соотношении 75:25 </a>\n",
        "   * <a href='#step_2.1'> Обучим модель и сделаем предсказания на валидационной выборке </a>\n",
        "   * <a href='#step_2.2'> Сохраним предсказания и правильные ответы на валидационной выборке</a>\n",
        "   * <a href='#step_2.3'> Напечатаем на экране средний запас предсказанного сырья и RMSE модели</a>\n",
        "   * <a href='#step_2.end'> Вывод (проанализируем результаты) </a>\n",
        "   \n",
        "### 3. Подготовка к расчёту прибыли\n",
        "   * <a href='#step_3'> Все ключевые значения для расчётов сохраним в отдельных переменных </a>\n",
        "   * <a href='#step_3.1'> Рассчитаем достаточный объём сырья для безубыточной разработки новой скважины</a>\n",
        " \n",
        "   * <a href='#step_3.2'> Сравним полученный объём сырья со средним запасом в каждом регионе </a>\n",
        "   * <a href='#step_3.end'> Вывод</a>\n",
        "\n",
        "### 4. Напишем функцию для расчёта прибыли по выбранным скважинам и предсказаниям модели:\n",
        "   * <a href='#step_4'> Выберем скважины с максимальными значениями предсказаний </a>\n",
        "   * <a href='#step_4.1'> Просуммируем целевое значение объёма сырья, соответствующее этим предсказаниям </a>\n",
        "   * <a href='#step_4.2'> Рассчитаем прибыль для полученного объёма сырья </a>\n",
        "   * <a href='#step_4.end'> Вывод </a>\n",
        "   \n",
        "\n",
        "   \n",
        "### 5. Расчёт прибыли и рисков\n",
        "   * <a href='#step_5.1'> Применим технику Bootstrap с 1000 выборок, чтобы найти распределение прибыли</a>\n",
        "       * <a href='#step_5.2'>  Найдём среднюю прибыль, 95%-й доверительный интервал и риск убытков. Убыток — это отрицательная прибыль </a>\n",
        "       * <a href='#step_5.3'> Выбор региона </a>\n",
        "   * <a href='#step_5.end'> Вывод (предложим регион для разработки скважин и обоснуем выбор)</a>\n",
        "   \n",
        "\n",
        "\n",
        "### 6. Вывод\n",
        "   * <a href='#step_6.end'> Вывод </a>\n",
        "---\n"
      ]
    },
    {
      "cell_type": "markdown",
      "metadata": {
        "id": "Mdji-MhbGLia"
      },
      "source": [
        "<a id=\"step_1\"></a>\n",
        "# 1. Загрузка и подготовка данных"
      ]
    },
    {
      "cell_type": "markdown",
      "metadata": {
        "id": "c3ZVaMMUGLib"
      },
      "source": [
        "   ## Загружаем библиотеки"
      ]
    },
    {
      "cell_type": "code",
      "metadata": {
        "id": "jZ9eQ2VtGLic"
      },
      "source": [
        "import pandas as pd\n",
        "from sklearn.model_selection import train_test_split\n",
        "from sklearn.linear_model import LinearRegression\n",
        "from sklearn.preprocessing import StandardScaler\n",
        "from sklearn.metrics import accuracy_score\n",
        "from scipy import stats as st\n",
        "import numpy as np\n",
        "from sklearn.metrics import mean_squared_error, r2_score\n",
        "from tqdm.notebook import tqdm\n",
        "import matplotlib.pyplot as plt\n",
        "import seaborn as sns\n",
        "from sklearn.utils import shuffle\n",
        "from sklearn.preprocessing import OrdinalEncoder "
      ],
      "execution_count": null,
      "outputs": []
    },
    {
      "cell_type": "markdown",
      "metadata": {
        "id": "y3GPEHdaGLic"
      },
      "source": [
        "<a id=\"step_1.1\"></a>\n",
        "### Загрузим данные геологоразведки трёх регионов"
      ]
    },
    {
      "cell_type": "code",
      "metadata": {
        "id": "l37ZldZIGLid"
      },
      "source": [
        "data_0 = pd.read_csv('/datasets/geo_data_0.csv')\n",
        "data_1 = pd.read_csv('/datasets/geo_data_1.csv')\n",
        "data_2 = pd.read_csv('/datasets/geo_data_2.csv')"
      ],
      "execution_count": null,
      "outputs": []
    },
    {
      "cell_type": "markdown",
      "metadata": {
        "id": "_5m8edNRGLid"
      },
      "source": [
        "### Данные геологоразведки 1 региона"
      ]
    },
    {
      "cell_type": "code",
      "metadata": {
        "scrolled": false,
        "id": "jnX8TajKGLid",
        "outputId": "f9dd5c64-e2a8-4333-a687-5012d3ad168a"
      },
      "source": [
        "data_0.head()"
      ],
      "execution_count": null,
      "outputs": [
        {
          "output_type": "execute_result",
          "data": {
            "text/html": [
              "<div>\n",
              "<style scoped>\n",
              "    .dataframe tbody tr th:only-of-type {\n",
              "        vertical-align: middle;\n",
              "    }\n",
              "\n",
              "    .dataframe tbody tr th {\n",
              "        vertical-align: top;\n",
              "    }\n",
              "\n",
              "    .dataframe thead th {\n",
              "        text-align: right;\n",
              "    }\n",
              "</style>\n",
              "<table border=\"1\" class=\"dataframe\">\n",
              "  <thead>\n",
              "    <tr style=\"text-align: right;\">\n",
              "      <th></th>\n",
              "      <th>id</th>\n",
              "      <th>f0</th>\n",
              "      <th>f1</th>\n",
              "      <th>f2</th>\n",
              "      <th>product</th>\n",
              "    </tr>\n",
              "  </thead>\n",
              "  <tbody>\n",
              "    <tr>\n",
              "      <td>0</td>\n",
              "      <td>txEyH</td>\n",
              "      <td>0.705745</td>\n",
              "      <td>-0.497823</td>\n",
              "      <td>1.221170</td>\n",
              "      <td>105.280062</td>\n",
              "    </tr>\n",
              "    <tr>\n",
              "      <td>1</td>\n",
              "      <td>2acmU</td>\n",
              "      <td>1.334711</td>\n",
              "      <td>-0.340164</td>\n",
              "      <td>4.365080</td>\n",
              "      <td>73.037750</td>\n",
              "    </tr>\n",
              "    <tr>\n",
              "      <td>2</td>\n",
              "      <td>409Wp</td>\n",
              "      <td>1.022732</td>\n",
              "      <td>0.151990</td>\n",
              "      <td>1.419926</td>\n",
              "      <td>85.265647</td>\n",
              "    </tr>\n",
              "    <tr>\n",
              "      <td>3</td>\n",
              "      <td>iJLyR</td>\n",
              "      <td>-0.032172</td>\n",
              "      <td>0.139033</td>\n",
              "      <td>2.978566</td>\n",
              "      <td>168.620776</td>\n",
              "    </tr>\n",
              "    <tr>\n",
              "      <td>4</td>\n",
              "      <td>Xdl7t</td>\n",
              "      <td>1.988431</td>\n",
              "      <td>0.155413</td>\n",
              "      <td>4.751769</td>\n",
              "      <td>154.036647</td>\n",
              "    </tr>\n",
              "  </tbody>\n",
              "</table>\n",
              "</div>"
            ],
            "text/plain": [
              "      id        f0        f1        f2     product\n",
              "0  txEyH  0.705745 -0.497823  1.221170  105.280062\n",
              "1  2acmU  1.334711 -0.340164  4.365080   73.037750\n",
              "2  409Wp  1.022732  0.151990  1.419926   85.265647\n",
              "3  iJLyR -0.032172  0.139033  2.978566  168.620776\n",
              "4  Xdl7t  1.988431  0.155413  4.751769  154.036647"
            ]
          },
          "metadata": {
            "tags": []
          },
          "execution_count": 3
        }
      ]
    },
    {
      "cell_type": "code",
      "metadata": {
        "scrolled": true,
        "id": "hc0CFv8cGLie",
        "outputId": "b0a89825-eed6-4a5a-8e84-016e5862f70d"
      },
      "source": [
        "data_0.info()"
      ],
      "execution_count": null,
      "outputs": [
        {
          "output_type": "stream",
          "text": [
            "<class 'pandas.core.frame.DataFrame'>\n",
            "RangeIndex: 100000 entries, 0 to 99999\n",
            "Data columns (total 5 columns):\n",
            "id         100000 non-null object\n",
            "f0         100000 non-null float64\n",
            "f1         100000 non-null float64\n",
            "f2         100000 non-null float64\n",
            "product    100000 non-null float64\n",
            "dtypes: float64(4), object(1)\n",
            "memory usage: 3.8+ MB\n"
          ],
          "name": "stdout"
        }
      ]
    },
    {
      "cell_type": "code",
      "metadata": {
        "scrolled": false,
        "id": "kzUIJH6nGLie",
        "outputId": "3d71e458-962e-4df4-ea95-ad10d57fa118"
      },
      "source": [
        "data_0\\\n",
        "    .corr()\\\n",
        "    .style\\\n",
        "    .background_gradient(cmap='coolwarm')"
      ],
      "execution_count": null,
      "outputs": [
        {
          "output_type": "execute_result",
          "data": {
            "text/html": [
              "<style  type=\"text/css\" >\n",
              "    #T_c29a8e82_4104_11eb_83db_02420a3910c6row0_col0 {\n",
              "            background-color:  #b40426;\n",
              "            color:  #f1f1f1;\n",
              "        }    #T_c29a8e82_4104_11eb_83db_02420a3910c6row0_col1 {\n",
              "            background-color:  #3b4cc0;\n",
              "            color:  #f1f1f1;\n",
              "        }    #T_c29a8e82_4104_11eb_83db_02420a3910c6row0_col2 {\n",
              "            background-color:  #3b4cc0;\n",
              "            color:  #f1f1f1;\n",
              "        }    #T_c29a8e82_4104_11eb_83db_02420a3910c6row0_col3 {\n",
              "            background-color:  #98b9ff;\n",
              "            color:  #000000;\n",
              "        }    #T_c29a8e82_4104_11eb_83db_02420a3910c6row1_col0 {\n",
              "            background-color:  #3b4cc0;\n",
              "            color:  #f1f1f1;\n",
              "        }    #T_c29a8e82_4104_11eb_83db_02420a3910c6row1_col1 {\n",
              "            background-color:  #b40426;\n",
              "            color:  #f1f1f1;\n",
              "        }    #T_c29a8e82_4104_11eb_83db_02420a3910c6row1_col2 {\n",
              "            background-color:  #3c4ec2;\n",
              "            color:  #f1f1f1;\n",
              "        }    #T_c29a8e82_4104_11eb_83db_02420a3910c6row1_col3 {\n",
              "            background-color:  #3b4cc0;\n",
              "            color:  #f1f1f1;\n",
              "        }    #T_c29a8e82_4104_11eb_83db_02420a3910c6row2_col0 {\n",
              "            background-color:  #9fbfff;\n",
              "            color:  #000000;\n",
              "        }    #T_c29a8e82_4104_11eb_83db_02420a3910c6row2_col1 {\n",
              "            background-color:  #a1c0ff;\n",
              "            color:  #000000;\n",
              "        }    #T_c29a8e82_4104_11eb_83db_02420a3910c6row2_col2 {\n",
              "            background-color:  #b40426;\n",
              "            color:  #f1f1f1;\n",
              "        }    #T_c29a8e82_4104_11eb_83db_02420a3910c6row2_col3 {\n",
              "            background-color:  #edd2c3;\n",
              "            color:  #000000;\n",
              "        }    #T_c29a8e82_4104_11eb_83db_02420a3910c6row3_col0 {\n",
              "            background-color:  #c1d4f4;\n",
              "            color:  #000000;\n",
              "        }    #T_c29a8e82_4104_11eb_83db_02420a3910c6row3_col1 {\n",
              "            background-color:  #7295f4;\n",
              "            color:  #000000;\n",
              "        }    #T_c29a8e82_4104_11eb_83db_02420a3910c6row3_col2 {\n",
              "            background-color:  #d9dce1;\n",
              "            color:  #000000;\n",
              "        }    #T_c29a8e82_4104_11eb_83db_02420a3910c6row3_col3 {\n",
              "            background-color:  #b40426;\n",
              "            color:  #f1f1f1;\n",
              "        }</style><table id=\"T_c29a8e82_4104_11eb_83db_02420a3910c6\" ><thead>    <tr>        <th class=\"blank level0\" ></th>        <th class=\"col_heading level0 col0\" >f0</th>        <th class=\"col_heading level0 col1\" >f1</th>        <th class=\"col_heading level0 col2\" >f2</th>        <th class=\"col_heading level0 col3\" >product</th>    </tr></thead><tbody>\n",
              "                <tr>\n",
              "                        <th id=\"T_c29a8e82_4104_11eb_83db_02420a3910c6level0_row0\" class=\"row_heading level0 row0\" >f0</th>\n",
              "                        <td id=\"T_c29a8e82_4104_11eb_83db_02420a3910c6row0_col0\" class=\"data row0 col0\" >1</td>\n",
              "                        <td id=\"T_c29a8e82_4104_11eb_83db_02420a3910c6row0_col1\" class=\"data row0 col1\" >-0.440723</td>\n",
              "                        <td id=\"T_c29a8e82_4104_11eb_83db_02420a3910c6row0_col2\" class=\"data row0 col2\" >-0.00315334</td>\n",
              "                        <td id=\"T_c29a8e82_4104_11eb_83db_02420a3910c6row0_col3\" class=\"data row0 col3\" >0.143536</td>\n",
              "            </tr>\n",
              "            <tr>\n",
              "                        <th id=\"T_c29a8e82_4104_11eb_83db_02420a3910c6level0_row1\" class=\"row_heading level0 row1\" >f1</th>\n",
              "                        <td id=\"T_c29a8e82_4104_11eb_83db_02420a3910c6row1_col0\" class=\"data row1 col0\" >-0.440723</td>\n",
              "                        <td id=\"T_c29a8e82_4104_11eb_83db_02420a3910c6row1_col1\" class=\"data row1 col1\" >1</td>\n",
              "                        <td id=\"T_c29a8e82_4104_11eb_83db_02420a3910c6row1_col2\" class=\"data row1 col2\" >0.00172443</td>\n",
              "                        <td id=\"T_c29a8e82_4104_11eb_83db_02420a3910c6row1_col3\" class=\"data row1 col3\" >-0.192356</td>\n",
              "            </tr>\n",
              "            <tr>\n",
              "                        <th id=\"T_c29a8e82_4104_11eb_83db_02420a3910c6level0_row2\" class=\"row_heading level0 row2\" >f2</th>\n",
              "                        <td id=\"T_c29a8e82_4104_11eb_83db_02420a3910c6row2_col0\" class=\"data row2 col0\" >-0.00315334</td>\n",
              "                        <td id=\"T_c29a8e82_4104_11eb_83db_02420a3910c6row2_col1\" class=\"data row2 col1\" >0.00172443</td>\n",
              "                        <td id=\"T_c29a8e82_4104_11eb_83db_02420a3910c6row2_col2\" class=\"data row2 col2\" >1</td>\n",
              "                        <td id=\"T_c29a8e82_4104_11eb_83db_02420a3910c6row2_col3\" class=\"data row2 col3\" >0.483663</td>\n",
              "            </tr>\n",
              "            <tr>\n",
              "                        <th id=\"T_c29a8e82_4104_11eb_83db_02420a3910c6level0_row3\" class=\"row_heading level0 row3\" >product</th>\n",
              "                        <td id=\"T_c29a8e82_4104_11eb_83db_02420a3910c6row3_col0\" class=\"data row3 col0\" >0.143536</td>\n",
              "                        <td id=\"T_c29a8e82_4104_11eb_83db_02420a3910c6row3_col1\" class=\"data row3 col1\" >-0.192356</td>\n",
              "                        <td id=\"T_c29a8e82_4104_11eb_83db_02420a3910c6row3_col2\" class=\"data row3 col2\" >0.483663</td>\n",
              "                        <td id=\"T_c29a8e82_4104_11eb_83db_02420a3910c6row3_col3\" class=\"data row3 col3\" >1</td>\n",
              "            </tr>\n",
              "    </tbody></table>"
            ],
            "text/plain": [
              "<pandas.io.formats.style.Styler at 0x7f7c8168e550>"
            ]
          },
          "metadata": {
            "tags": []
          },
          "execution_count": 5
        }
      ]
    },
    {
      "cell_type": "code",
      "metadata": {
        "id": "yhfG-R_aGLif",
        "outputId": "48693918-2ec3-4bf5-f4a0-26405576580c"
      },
      "source": [
        "data_0.describe()"
      ],
      "execution_count": null,
      "outputs": [
        {
          "output_type": "execute_result",
          "data": {
            "text/html": [
              "<div>\n",
              "<style scoped>\n",
              "    .dataframe tbody tr th:only-of-type {\n",
              "        vertical-align: middle;\n",
              "    }\n",
              "\n",
              "    .dataframe tbody tr th {\n",
              "        vertical-align: top;\n",
              "    }\n",
              "\n",
              "    .dataframe thead th {\n",
              "        text-align: right;\n",
              "    }\n",
              "</style>\n",
              "<table border=\"1\" class=\"dataframe\">\n",
              "  <thead>\n",
              "    <tr style=\"text-align: right;\">\n",
              "      <th></th>\n",
              "      <th>f0</th>\n",
              "      <th>f1</th>\n",
              "      <th>f2</th>\n",
              "      <th>product</th>\n",
              "    </tr>\n",
              "  </thead>\n",
              "  <tbody>\n",
              "    <tr>\n",
              "      <td>count</td>\n",
              "      <td>100000.000000</td>\n",
              "      <td>100000.000000</td>\n",
              "      <td>100000.000000</td>\n",
              "      <td>100000.000000</td>\n",
              "    </tr>\n",
              "    <tr>\n",
              "      <td>mean</td>\n",
              "      <td>0.500419</td>\n",
              "      <td>0.250143</td>\n",
              "      <td>2.502647</td>\n",
              "      <td>92.500000</td>\n",
              "    </tr>\n",
              "    <tr>\n",
              "      <td>std</td>\n",
              "      <td>0.871832</td>\n",
              "      <td>0.504433</td>\n",
              "      <td>3.248248</td>\n",
              "      <td>44.288691</td>\n",
              "    </tr>\n",
              "    <tr>\n",
              "      <td>min</td>\n",
              "      <td>-1.408605</td>\n",
              "      <td>-0.848218</td>\n",
              "      <td>-12.088328</td>\n",
              "      <td>0.000000</td>\n",
              "    </tr>\n",
              "    <tr>\n",
              "      <td>25%</td>\n",
              "      <td>-0.072580</td>\n",
              "      <td>-0.200881</td>\n",
              "      <td>0.287748</td>\n",
              "      <td>56.497507</td>\n",
              "    </tr>\n",
              "    <tr>\n",
              "      <td>50%</td>\n",
              "      <td>0.502360</td>\n",
              "      <td>0.250252</td>\n",
              "      <td>2.515969</td>\n",
              "      <td>91.849972</td>\n",
              "    </tr>\n",
              "    <tr>\n",
              "      <td>75%</td>\n",
              "      <td>1.073581</td>\n",
              "      <td>0.700646</td>\n",
              "      <td>4.715088</td>\n",
              "      <td>128.564089</td>\n",
              "    </tr>\n",
              "    <tr>\n",
              "      <td>max</td>\n",
              "      <td>2.362331</td>\n",
              "      <td>1.343769</td>\n",
              "      <td>16.003790</td>\n",
              "      <td>185.364347</td>\n",
              "    </tr>\n",
              "  </tbody>\n",
              "</table>\n",
              "</div>"
            ],
            "text/plain": [
              "                  f0             f1             f2        product\n",
              "count  100000.000000  100000.000000  100000.000000  100000.000000\n",
              "mean        0.500419       0.250143       2.502647      92.500000\n",
              "std         0.871832       0.504433       3.248248      44.288691\n",
              "min        -1.408605      -0.848218     -12.088328       0.000000\n",
              "25%        -0.072580      -0.200881       0.287748      56.497507\n",
              "50%         0.502360       0.250252       2.515969      91.849972\n",
              "75%         1.073581       0.700646       4.715088     128.564089\n",
              "max         2.362331       1.343769      16.003790     185.364347"
            ]
          },
          "metadata": {
            "tags": []
          },
          "execution_count": 6
        }
      ]
    },
    {
      "cell_type": "markdown",
      "metadata": {
        "id": "I1wXRGvFGLif"
      },
      "source": [
        "<a id=\"step_1.2\"></a>\n",
        "### Данные геологоразведки 2 региона"
      ]
    },
    {
      "cell_type": "code",
      "metadata": {
        "scrolled": false,
        "id": "YHkgEOZ2GLif",
        "outputId": "c3b9de4a-b13a-4822-aba7-d2b59de063ca"
      },
      "source": [
        "data_1.head()"
      ],
      "execution_count": null,
      "outputs": [
        {
          "output_type": "execute_result",
          "data": {
            "text/html": [
              "<div>\n",
              "<style scoped>\n",
              "    .dataframe tbody tr th:only-of-type {\n",
              "        vertical-align: middle;\n",
              "    }\n",
              "\n",
              "    .dataframe tbody tr th {\n",
              "        vertical-align: top;\n",
              "    }\n",
              "\n",
              "    .dataframe thead th {\n",
              "        text-align: right;\n",
              "    }\n",
              "</style>\n",
              "<table border=\"1\" class=\"dataframe\">\n",
              "  <thead>\n",
              "    <tr style=\"text-align: right;\">\n",
              "      <th></th>\n",
              "      <th>id</th>\n",
              "      <th>f0</th>\n",
              "      <th>f1</th>\n",
              "      <th>f2</th>\n",
              "      <th>product</th>\n",
              "    </tr>\n",
              "  </thead>\n",
              "  <tbody>\n",
              "    <tr>\n",
              "      <td>0</td>\n",
              "      <td>kBEdx</td>\n",
              "      <td>-15.001348</td>\n",
              "      <td>-8.276000</td>\n",
              "      <td>-0.005876</td>\n",
              "      <td>3.179103</td>\n",
              "    </tr>\n",
              "    <tr>\n",
              "      <td>1</td>\n",
              "      <td>62mP7</td>\n",
              "      <td>14.272088</td>\n",
              "      <td>-3.475083</td>\n",
              "      <td>0.999183</td>\n",
              "      <td>26.953261</td>\n",
              "    </tr>\n",
              "    <tr>\n",
              "      <td>2</td>\n",
              "      <td>vyE1P</td>\n",
              "      <td>6.263187</td>\n",
              "      <td>-5.948386</td>\n",
              "      <td>5.001160</td>\n",
              "      <td>134.766305</td>\n",
              "    </tr>\n",
              "    <tr>\n",
              "      <td>3</td>\n",
              "      <td>KcrkZ</td>\n",
              "      <td>-13.081196</td>\n",
              "      <td>-11.506057</td>\n",
              "      <td>4.999415</td>\n",
              "      <td>137.945408</td>\n",
              "    </tr>\n",
              "    <tr>\n",
              "      <td>4</td>\n",
              "      <td>AHL4O</td>\n",
              "      <td>12.702195</td>\n",
              "      <td>-8.147433</td>\n",
              "      <td>5.004363</td>\n",
              "      <td>134.766305</td>\n",
              "    </tr>\n",
              "  </tbody>\n",
              "</table>\n",
              "</div>"
            ],
            "text/plain": [
              "      id         f0         f1        f2     product\n",
              "0  kBEdx -15.001348  -8.276000 -0.005876    3.179103\n",
              "1  62mP7  14.272088  -3.475083  0.999183   26.953261\n",
              "2  vyE1P   6.263187  -5.948386  5.001160  134.766305\n",
              "3  KcrkZ -13.081196 -11.506057  4.999415  137.945408\n",
              "4  AHL4O  12.702195  -8.147433  5.004363  134.766305"
            ]
          },
          "metadata": {
            "tags": []
          },
          "execution_count": 7
        }
      ]
    },
    {
      "cell_type": "code",
      "metadata": {
        "scrolled": false,
        "id": "gnSfb0_6GLif",
        "outputId": "a4af0ccb-8a2b-4ebf-8b15-722ff85b421b"
      },
      "source": [
        "data_1.info()"
      ],
      "execution_count": null,
      "outputs": [
        {
          "output_type": "stream",
          "text": [
            "<class 'pandas.core.frame.DataFrame'>\n",
            "RangeIndex: 100000 entries, 0 to 99999\n",
            "Data columns (total 5 columns):\n",
            "id         100000 non-null object\n",
            "f0         100000 non-null float64\n",
            "f1         100000 non-null float64\n",
            "f2         100000 non-null float64\n",
            "product    100000 non-null float64\n",
            "dtypes: float64(4), object(1)\n",
            "memory usage: 3.8+ MB\n"
          ],
          "name": "stdout"
        }
      ]
    },
    {
      "cell_type": "code",
      "metadata": {
        "id": "iDMomxKJGLig",
        "outputId": "0caa6598-8cd0-4238-bcb8-a14fcda7c556"
      },
      "source": [
        "data_1.describe()"
      ],
      "execution_count": null,
      "outputs": [
        {
          "output_type": "execute_result",
          "data": {
            "text/html": [
              "<div>\n",
              "<style scoped>\n",
              "    .dataframe tbody tr th:only-of-type {\n",
              "        vertical-align: middle;\n",
              "    }\n",
              "\n",
              "    .dataframe tbody tr th {\n",
              "        vertical-align: top;\n",
              "    }\n",
              "\n",
              "    .dataframe thead th {\n",
              "        text-align: right;\n",
              "    }\n",
              "</style>\n",
              "<table border=\"1\" class=\"dataframe\">\n",
              "  <thead>\n",
              "    <tr style=\"text-align: right;\">\n",
              "      <th></th>\n",
              "      <th>f0</th>\n",
              "      <th>f1</th>\n",
              "      <th>f2</th>\n",
              "      <th>product</th>\n",
              "    </tr>\n",
              "  </thead>\n",
              "  <tbody>\n",
              "    <tr>\n",
              "      <td>count</td>\n",
              "      <td>100000.000000</td>\n",
              "      <td>100000.000000</td>\n",
              "      <td>100000.000000</td>\n",
              "      <td>100000.000000</td>\n",
              "    </tr>\n",
              "    <tr>\n",
              "      <td>mean</td>\n",
              "      <td>1.141296</td>\n",
              "      <td>-4.796579</td>\n",
              "      <td>2.494541</td>\n",
              "      <td>68.825000</td>\n",
              "    </tr>\n",
              "    <tr>\n",
              "      <td>std</td>\n",
              "      <td>8.965932</td>\n",
              "      <td>5.119872</td>\n",
              "      <td>1.703572</td>\n",
              "      <td>45.944423</td>\n",
              "    </tr>\n",
              "    <tr>\n",
              "      <td>min</td>\n",
              "      <td>-31.609576</td>\n",
              "      <td>-26.358598</td>\n",
              "      <td>-0.018144</td>\n",
              "      <td>0.000000</td>\n",
              "    </tr>\n",
              "    <tr>\n",
              "      <td>25%</td>\n",
              "      <td>-6.298551</td>\n",
              "      <td>-8.267985</td>\n",
              "      <td>1.000021</td>\n",
              "      <td>26.953261</td>\n",
              "    </tr>\n",
              "    <tr>\n",
              "      <td>50%</td>\n",
              "      <td>1.153055</td>\n",
              "      <td>-4.813172</td>\n",
              "      <td>2.011479</td>\n",
              "      <td>57.085625</td>\n",
              "    </tr>\n",
              "    <tr>\n",
              "      <td>75%</td>\n",
              "      <td>8.621015</td>\n",
              "      <td>-1.332816</td>\n",
              "      <td>3.999904</td>\n",
              "      <td>107.813044</td>\n",
              "    </tr>\n",
              "    <tr>\n",
              "      <td>max</td>\n",
              "      <td>29.421755</td>\n",
              "      <td>18.734063</td>\n",
              "      <td>5.019721</td>\n",
              "      <td>137.945408</td>\n",
              "    </tr>\n",
              "  </tbody>\n",
              "</table>\n",
              "</div>"
            ],
            "text/plain": [
              "                  f0             f1             f2        product\n",
              "count  100000.000000  100000.000000  100000.000000  100000.000000\n",
              "mean        1.141296      -4.796579       2.494541      68.825000\n",
              "std         8.965932       5.119872       1.703572      45.944423\n",
              "min       -31.609576     -26.358598      -0.018144       0.000000\n",
              "25%        -6.298551      -8.267985       1.000021      26.953261\n",
              "50%         1.153055      -4.813172       2.011479      57.085625\n",
              "75%         8.621015      -1.332816       3.999904     107.813044\n",
              "max        29.421755      18.734063       5.019721     137.945408"
            ]
          },
          "metadata": {
            "tags": []
          },
          "execution_count": 9
        }
      ]
    },
    {
      "cell_type": "code",
      "metadata": {
        "scrolled": false,
        "id": "viArRZQvGLig",
        "outputId": "ffdffa4f-dd6f-4d0a-8ce3-2ae91e0b0fad"
      },
      "source": [
        "data_1\\\n",
        "    .corr()\\\n",
        "    .style\\\n",
        "    .background_gradient(cmap='coolwarm')"
      ],
      "execution_count": null,
      "outputs": [
        {
          "output_type": "execute_result",
          "data": {
            "text/html": [
              "<style  type=\"text/css\" >\n",
              "    #T_c2b81826_4104_11eb_83db_02420a3910c6row0_col0 {\n",
              "            background-color:  #b40426;\n",
              "            color:  #f1f1f1;\n",
              "        }    #T_c2b81826_4104_11eb_83db_02420a3910c6row0_col1 {\n",
              "            background-color:  #779af7;\n",
              "            color:  #000000;\n",
              "        }    #T_c2b81826_4104_11eb_83db_02420a3910c6row0_col2 {\n",
              "            background-color:  #3b4cc0;\n",
              "            color:  #f1f1f1;\n",
              "        }    #T_c2b81826_4104_11eb_83db_02420a3910c6row0_col3 {\n",
              "            background-color:  #3b4cc0;\n",
              "            color:  #f1f1f1;\n",
              "        }    #T_c2b81826_4104_11eb_83db_02420a3910c6row1_col0 {\n",
              "            background-color:  #7da0f9;\n",
              "            color:  #000000;\n",
              "        }    #T_c2b81826_4104_11eb_83db_02420a3910c6row1_col1 {\n",
              "            background-color:  #b40426;\n",
              "            color:  #f1f1f1;\n",
              "        }    #T_c2b81826_4104_11eb_83db_02420a3910c6row1_col2 {\n",
              "            background-color:  #3b4cc0;\n",
              "            color:  #f1f1f1;\n",
              "        }    #T_c2b81826_4104_11eb_83db_02420a3910c6row1_col3 {\n",
              "            background-color:  #4055c8;\n",
              "            color:  #f1f1f1;\n",
              "        }    #T_c2b81826_4104_11eb_83db_02420a3910c6row2_col0 {\n",
              "            background-color:  #4358cb;\n",
              "            color:  #f1f1f1;\n",
              "        }    #T_c2b81826_4104_11eb_83db_02420a3910c6row2_col1 {\n",
              "            background-color:  #3c4ec2;\n",
              "            color:  #f1f1f1;\n",
              "        }    #T_c2b81826_4104_11eb_83db_02420a3910c6row2_col2 {\n",
              "            background-color:  #b40426;\n",
              "            color:  #f1f1f1;\n",
              "        }    #T_c2b81826_4104_11eb_83db_02420a3910c6row2_col3 {\n",
              "            background-color:  #b40426;\n",
              "            color:  #f1f1f1;\n",
              "        }    #T_c2b81826_4104_11eb_83db_02420a3910c6row3_col0 {\n",
              "            background-color:  #3b4cc0;\n",
              "            color:  #f1f1f1;\n",
              "        }    #T_c2b81826_4104_11eb_83db_02420a3910c6row3_col1 {\n",
              "            background-color:  #3b4cc0;\n",
              "            color:  #f1f1f1;\n",
              "        }    #T_c2b81826_4104_11eb_83db_02420a3910c6row3_col2 {\n",
              "            background-color:  #b40426;\n",
              "            color:  #f1f1f1;\n",
              "        }    #T_c2b81826_4104_11eb_83db_02420a3910c6row3_col3 {\n",
              "            background-color:  #b40426;\n",
              "            color:  #f1f1f1;\n",
              "        }</style><table id=\"T_c2b81826_4104_11eb_83db_02420a3910c6\" ><thead>    <tr>        <th class=\"blank level0\" ></th>        <th class=\"col_heading level0 col0\" >f0</th>        <th class=\"col_heading level0 col1\" >f1</th>        <th class=\"col_heading level0 col2\" >f2</th>        <th class=\"col_heading level0 col3\" >product</th>    </tr></thead><tbody>\n",
              "                <tr>\n",
              "                        <th id=\"T_c2b81826_4104_11eb_83db_02420a3910c6level0_row0\" class=\"row_heading level0 row0\" >f0</th>\n",
              "                        <td id=\"T_c2b81826_4104_11eb_83db_02420a3910c6row0_col0\" class=\"data row0 col0\" >1</td>\n",
              "                        <td id=\"T_c2b81826_4104_11eb_83db_02420a3910c6row0_col1\" class=\"data row0 col1\" >0.182287</td>\n",
              "                        <td id=\"T_c2b81826_4104_11eb_83db_02420a3910c6row0_col2\" class=\"data row0 col2\" >-0.00177704</td>\n",
              "                        <td id=\"T_c2b81826_4104_11eb_83db_02420a3910c6row0_col3\" class=\"data row0 col3\" >-0.0304905</td>\n",
              "            </tr>\n",
              "            <tr>\n",
              "                        <th id=\"T_c2b81826_4104_11eb_83db_02420a3910c6level0_row1\" class=\"row_heading level0 row1\" >f1</th>\n",
              "                        <td id=\"T_c2b81826_4104_11eb_83db_02420a3910c6row1_col0\" class=\"data row1 col0\" >0.182287</td>\n",
              "                        <td id=\"T_c2b81826_4104_11eb_83db_02420a3910c6row1_col1\" class=\"data row1 col1\" >1</td>\n",
              "                        <td id=\"T_c2b81826_4104_11eb_83db_02420a3910c6row1_col2\" class=\"data row1 col2\" >-0.00259532</td>\n",
              "                        <td id=\"T_c2b81826_4104_11eb_83db_02420a3910c6row1_col3\" class=\"data row1 col3\" >-0.0101549</td>\n",
              "            </tr>\n",
              "            <tr>\n",
              "                        <th id=\"T_c2b81826_4104_11eb_83db_02420a3910c6level0_row2\" class=\"row_heading level0 row2\" >f2</th>\n",
              "                        <td id=\"T_c2b81826_4104_11eb_83db_02420a3910c6row2_col0\" class=\"data row2 col0\" >-0.00177704</td>\n",
              "                        <td id=\"T_c2b81826_4104_11eb_83db_02420a3910c6row2_col1\" class=\"data row2 col1\" >-0.00259532</td>\n",
              "                        <td id=\"T_c2b81826_4104_11eb_83db_02420a3910c6row2_col2\" class=\"data row2 col2\" >1</td>\n",
              "                        <td id=\"T_c2b81826_4104_11eb_83db_02420a3910c6row2_col3\" class=\"data row2 col3\" >0.999397</td>\n",
              "            </tr>\n",
              "            <tr>\n",
              "                        <th id=\"T_c2b81826_4104_11eb_83db_02420a3910c6level0_row3\" class=\"row_heading level0 row3\" >product</th>\n",
              "                        <td id=\"T_c2b81826_4104_11eb_83db_02420a3910c6row3_col0\" class=\"data row3 col0\" >-0.0304905</td>\n",
              "                        <td id=\"T_c2b81826_4104_11eb_83db_02420a3910c6row3_col1\" class=\"data row3 col1\" >-0.0101549</td>\n",
              "                        <td id=\"T_c2b81826_4104_11eb_83db_02420a3910c6row3_col2\" class=\"data row3 col2\" >0.999397</td>\n",
              "                        <td id=\"T_c2b81826_4104_11eb_83db_02420a3910c6row3_col3\" class=\"data row3 col3\" >1</td>\n",
              "            </tr>\n",
              "    </tbody></table>"
            ],
            "text/plain": [
              "<pandas.io.formats.style.Styler at 0x7f7c7cd112d0>"
            ]
          },
          "metadata": {
            "tags": []
          },
          "execution_count": 10
        }
      ]
    },
    {
      "cell_type": "markdown",
      "metadata": {
        "id": "S8X-a9eVGLig"
      },
      "source": [
        "<a id=\"step_1.3\"></a>\n",
        "### Данные геологоразведки 3 региона"
      ]
    },
    {
      "cell_type": "code",
      "metadata": {
        "scrolled": true,
        "id": "a6gHopNpGLig",
        "outputId": "2707fff4-c15c-402f-b85d-22e50a26b265"
      },
      "source": [
        "data_2.head()"
      ],
      "execution_count": null,
      "outputs": [
        {
          "output_type": "execute_result",
          "data": {
            "text/html": [
              "<div>\n",
              "<style scoped>\n",
              "    .dataframe tbody tr th:only-of-type {\n",
              "        vertical-align: middle;\n",
              "    }\n",
              "\n",
              "    .dataframe tbody tr th {\n",
              "        vertical-align: top;\n",
              "    }\n",
              "\n",
              "    .dataframe thead th {\n",
              "        text-align: right;\n",
              "    }\n",
              "</style>\n",
              "<table border=\"1\" class=\"dataframe\">\n",
              "  <thead>\n",
              "    <tr style=\"text-align: right;\">\n",
              "      <th></th>\n",
              "      <th>id</th>\n",
              "      <th>f0</th>\n",
              "      <th>f1</th>\n",
              "      <th>f2</th>\n",
              "      <th>product</th>\n",
              "    </tr>\n",
              "  </thead>\n",
              "  <tbody>\n",
              "    <tr>\n",
              "      <td>0</td>\n",
              "      <td>fwXo0</td>\n",
              "      <td>-1.146987</td>\n",
              "      <td>0.963328</td>\n",
              "      <td>-0.828965</td>\n",
              "      <td>27.758673</td>\n",
              "    </tr>\n",
              "    <tr>\n",
              "      <td>1</td>\n",
              "      <td>WJtFt</td>\n",
              "      <td>0.262778</td>\n",
              "      <td>0.269839</td>\n",
              "      <td>-2.530187</td>\n",
              "      <td>56.069697</td>\n",
              "    </tr>\n",
              "    <tr>\n",
              "      <td>2</td>\n",
              "      <td>ovLUW</td>\n",
              "      <td>0.194587</td>\n",
              "      <td>0.289035</td>\n",
              "      <td>-5.586433</td>\n",
              "      <td>62.871910</td>\n",
              "    </tr>\n",
              "    <tr>\n",
              "      <td>3</td>\n",
              "      <td>q6cA6</td>\n",
              "      <td>2.236060</td>\n",
              "      <td>-0.553760</td>\n",
              "      <td>0.930038</td>\n",
              "      <td>114.572842</td>\n",
              "    </tr>\n",
              "    <tr>\n",
              "      <td>4</td>\n",
              "      <td>WPMUX</td>\n",
              "      <td>-0.515993</td>\n",
              "      <td>1.716266</td>\n",
              "      <td>5.899011</td>\n",
              "      <td>149.600746</td>\n",
              "    </tr>\n",
              "  </tbody>\n",
              "</table>\n",
              "</div>"
            ],
            "text/plain": [
              "      id        f0        f1        f2     product\n",
              "0  fwXo0 -1.146987  0.963328 -0.828965   27.758673\n",
              "1  WJtFt  0.262778  0.269839 -2.530187   56.069697\n",
              "2  ovLUW  0.194587  0.289035 -5.586433   62.871910\n",
              "3  q6cA6  2.236060 -0.553760  0.930038  114.572842\n",
              "4  WPMUX -0.515993  1.716266  5.899011  149.600746"
            ]
          },
          "metadata": {
            "tags": []
          },
          "execution_count": 11
        }
      ]
    },
    {
      "cell_type": "code",
      "metadata": {
        "scrolled": false,
        "id": "fplnTpKTGLih",
        "outputId": "797ede6c-e13a-4363-ea5d-7cc6c50bcced"
      },
      "source": [
        "data_2.info()"
      ],
      "execution_count": null,
      "outputs": [
        {
          "output_type": "stream",
          "text": [
            "<class 'pandas.core.frame.DataFrame'>\n",
            "RangeIndex: 100000 entries, 0 to 99999\n",
            "Data columns (total 5 columns):\n",
            "id         100000 non-null object\n",
            "f0         100000 non-null float64\n",
            "f1         100000 non-null float64\n",
            "f2         100000 non-null float64\n",
            "product    100000 non-null float64\n",
            "dtypes: float64(4), object(1)\n",
            "memory usage: 3.8+ MB\n"
          ],
          "name": "stdout"
        }
      ]
    },
    {
      "cell_type": "code",
      "metadata": {
        "id": "o1bxCI8nGLih",
        "outputId": "f10ac60e-edea-48d2-ca48-d9844bbb4a7b"
      },
      "source": [
        "data_2.describe()"
      ],
      "execution_count": null,
      "outputs": [
        {
          "output_type": "execute_result",
          "data": {
            "text/html": [
              "<div>\n",
              "<style scoped>\n",
              "    .dataframe tbody tr th:only-of-type {\n",
              "        vertical-align: middle;\n",
              "    }\n",
              "\n",
              "    .dataframe tbody tr th {\n",
              "        vertical-align: top;\n",
              "    }\n",
              "\n",
              "    .dataframe thead th {\n",
              "        text-align: right;\n",
              "    }\n",
              "</style>\n",
              "<table border=\"1\" class=\"dataframe\">\n",
              "  <thead>\n",
              "    <tr style=\"text-align: right;\">\n",
              "      <th></th>\n",
              "      <th>f0</th>\n",
              "      <th>f1</th>\n",
              "      <th>f2</th>\n",
              "      <th>product</th>\n",
              "    </tr>\n",
              "  </thead>\n",
              "  <tbody>\n",
              "    <tr>\n",
              "      <td>count</td>\n",
              "      <td>100000.000000</td>\n",
              "      <td>100000.000000</td>\n",
              "      <td>100000.000000</td>\n",
              "      <td>100000.000000</td>\n",
              "    </tr>\n",
              "    <tr>\n",
              "      <td>mean</td>\n",
              "      <td>0.002023</td>\n",
              "      <td>-0.002081</td>\n",
              "      <td>2.495128</td>\n",
              "      <td>95.000000</td>\n",
              "    </tr>\n",
              "    <tr>\n",
              "      <td>std</td>\n",
              "      <td>1.732045</td>\n",
              "      <td>1.730417</td>\n",
              "      <td>3.473445</td>\n",
              "      <td>44.749921</td>\n",
              "    </tr>\n",
              "    <tr>\n",
              "      <td>min</td>\n",
              "      <td>-8.760004</td>\n",
              "      <td>-7.084020</td>\n",
              "      <td>-11.970335</td>\n",
              "      <td>0.000000</td>\n",
              "    </tr>\n",
              "    <tr>\n",
              "      <td>25%</td>\n",
              "      <td>-1.162288</td>\n",
              "      <td>-1.174820</td>\n",
              "      <td>0.130359</td>\n",
              "      <td>59.450441</td>\n",
              "    </tr>\n",
              "    <tr>\n",
              "      <td>50%</td>\n",
              "      <td>0.009424</td>\n",
              "      <td>-0.009482</td>\n",
              "      <td>2.484236</td>\n",
              "      <td>94.925613</td>\n",
              "    </tr>\n",
              "    <tr>\n",
              "      <td>75%</td>\n",
              "      <td>1.158535</td>\n",
              "      <td>1.163678</td>\n",
              "      <td>4.858794</td>\n",
              "      <td>130.595027</td>\n",
              "    </tr>\n",
              "    <tr>\n",
              "      <td>max</td>\n",
              "      <td>7.238262</td>\n",
              "      <td>7.844801</td>\n",
              "      <td>16.739402</td>\n",
              "      <td>190.029838</td>\n",
              "    </tr>\n",
              "  </tbody>\n",
              "</table>\n",
              "</div>"
            ],
            "text/plain": [
              "                  f0             f1             f2        product\n",
              "count  100000.000000  100000.000000  100000.000000  100000.000000\n",
              "mean        0.002023      -0.002081       2.495128      95.000000\n",
              "std         1.732045       1.730417       3.473445      44.749921\n",
              "min        -8.760004      -7.084020     -11.970335       0.000000\n",
              "25%        -1.162288      -1.174820       0.130359      59.450441\n",
              "50%         0.009424      -0.009482       2.484236      94.925613\n",
              "75%         1.158535       1.163678       4.858794     130.595027\n",
              "max         7.238262       7.844801      16.739402     190.029838"
            ]
          },
          "metadata": {
            "tags": []
          },
          "execution_count": 13
        }
      ]
    },
    {
      "cell_type": "code",
      "metadata": {
        "scrolled": false,
        "id": "cyPs_QxMGLih",
        "outputId": "9b3dcb48-35d0-4160-8606-aef3b3ee784d"
      },
      "source": [
        "data_2\\\n",
        "    .corr()\\\n",
        "    .style\\\n",
        "    .background_gradient(cmap='coolwarm')"
      ],
      "execution_count": null,
      "outputs": [
        {
          "output_type": "execute_result",
          "data": {
            "text/html": [
              "<style  type=\"text/css\" >\n",
              "    #T_c2cea8de_4104_11eb_83db_02420a3910c6row0_col0 {\n",
              "            background-color:  #b40426;\n",
              "            color:  #f1f1f1;\n",
              "        }    #T_c2cea8de_4104_11eb_83db_02420a3910c6row0_col1 {\n",
              "            background-color:  #3b4cc0;\n",
              "            color:  #f1f1f1;\n",
              "        }    #T_c2cea8de_4104_11eb_83db_02420a3910c6row0_col2 {\n",
              "            background-color:  #3b4cc0;\n",
              "            color:  #f1f1f1;\n",
              "        }    #T_c2cea8de_4104_11eb_83db_02420a3910c6row0_col3 {\n",
              "            background-color:  #3b4cc0;\n",
              "            color:  #f1f1f1;\n",
              "        }    #T_c2cea8de_4104_11eb_83db_02420a3910c6row1_col0 {\n",
              "            background-color:  #3b4cc0;\n",
              "            color:  #f1f1f1;\n",
              "        }    #T_c2cea8de_4104_11eb_83db_02420a3910c6row1_col1 {\n",
              "            background-color:  #b40426;\n",
              "            color:  #f1f1f1;\n",
              "        }    #T_c2cea8de_4104_11eb_83db_02420a3910c6row1_col2 {\n",
              "            background-color:  #3b4cc0;\n",
              "            color:  #f1f1f1;\n",
              "        }    #T_c2cea8de_4104_11eb_83db_02420a3910c6row1_col3 {\n",
              "            background-color:  #3b4cc0;\n",
              "            color:  #f1f1f1;\n",
              "        }    #T_c2cea8de_4104_11eb_83db_02420a3910c6row2_col0 {\n",
              "            background-color:  #3b4cc0;\n",
              "            color:  #f1f1f1;\n",
              "        }    #T_c2cea8de_4104_11eb_83db_02420a3910c6row2_col1 {\n",
              "            background-color:  #3b4cc0;\n",
              "            color:  #f1f1f1;\n",
              "        }    #T_c2cea8de_4104_11eb_83db_02420a3910c6row2_col2 {\n",
              "            background-color:  #b40426;\n",
              "            color:  #f1f1f1;\n",
              "        }    #T_c2cea8de_4104_11eb_83db_02420a3910c6row2_col3 {\n",
              "            background-color:  #cedaeb;\n",
              "            color:  #000000;\n",
              "        }    #T_c2cea8de_4104_11eb_83db_02420a3910c6row3_col0 {\n",
              "            background-color:  #3b4cc0;\n",
              "            color:  #f1f1f1;\n",
              "        }    #T_c2cea8de_4104_11eb_83db_02420a3910c6row3_col1 {\n",
              "            background-color:  #3b4cc0;\n",
              "            color:  #f1f1f1;\n",
              "        }    #T_c2cea8de_4104_11eb_83db_02420a3910c6row3_col2 {\n",
              "            background-color:  #cedaeb;\n",
              "            color:  #000000;\n",
              "        }    #T_c2cea8de_4104_11eb_83db_02420a3910c6row3_col3 {\n",
              "            background-color:  #b40426;\n",
              "            color:  #f1f1f1;\n",
              "        }</style><table id=\"T_c2cea8de_4104_11eb_83db_02420a3910c6\" ><thead>    <tr>        <th class=\"blank level0\" ></th>        <th class=\"col_heading level0 col0\" >f0</th>        <th class=\"col_heading level0 col1\" >f1</th>        <th class=\"col_heading level0 col2\" >f2</th>        <th class=\"col_heading level0 col3\" >product</th>    </tr></thead><tbody>\n",
              "                <tr>\n",
              "                        <th id=\"T_c2cea8de_4104_11eb_83db_02420a3910c6level0_row0\" class=\"row_heading level0 row0\" >f0</th>\n",
              "                        <td id=\"T_c2cea8de_4104_11eb_83db_02420a3910c6row0_col0\" class=\"data row0 col0\" >1</td>\n",
              "                        <td id=\"T_c2cea8de_4104_11eb_83db_02420a3910c6row0_col1\" class=\"data row0 col1\" >0.000528283</td>\n",
              "                        <td id=\"T_c2cea8de_4104_11eb_83db_02420a3910c6row0_col2\" class=\"data row0 col2\" >-0.000448133</td>\n",
              "                        <td id=\"T_c2cea8de_4104_11eb_83db_02420a3910c6row0_col3\" class=\"data row0 col3\" >-0.00198706</td>\n",
              "            </tr>\n",
              "            <tr>\n",
              "                        <th id=\"T_c2cea8de_4104_11eb_83db_02420a3910c6level0_row1\" class=\"row_heading level0 row1\" >f1</th>\n",
              "                        <td id=\"T_c2cea8de_4104_11eb_83db_02420a3910c6row1_col0\" class=\"data row1 col0\" >0.000528283</td>\n",
              "                        <td id=\"T_c2cea8de_4104_11eb_83db_02420a3910c6row1_col1\" class=\"data row1 col1\" >1</td>\n",
              "                        <td id=\"T_c2cea8de_4104_11eb_83db_02420a3910c6row1_col2\" class=\"data row1 col2\" >0.000778661</td>\n",
              "                        <td id=\"T_c2cea8de_4104_11eb_83db_02420a3910c6row1_col3\" class=\"data row1 col3\" >-0.00101239</td>\n",
              "            </tr>\n",
              "            <tr>\n",
              "                        <th id=\"T_c2cea8de_4104_11eb_83db_02420a3910c6level0_row2\" class=\"row_heading level0 row2\" >f2</th>\n",
              "                        <td id=\"T_c2cea8de_4104_11eb_83db_02420a3910c6row2_col0\" class=\"data row2 col0\" >-0.000448133</td>\n",
              "                        <td id=\"T_c2cea8de_4104_11eb_83db_02420a3910c6row2_col1\" class=\"data row2 col1\" >0.000778661</td>\n",
              "                        <td id=\"T_c2cea8de_4104_11eb_83db_02420a3910c6row2_col2\" class=\"data row2 col2\" >1</td>\n",
              "                        <td id=\"T_c2cea8de_4104_11eb_83db_02420a3910c6row2_col3\" class=\"data row2 col3\" >0.445871</td>\n",
              "            </tr>\n",
              "            <tr>\n",
              "                        <th id=\"T_c2cea8de_4104_11eb_83db_02420a3910c6level0_row3\" class=\"row_heading level0 row3\" >product</th>\n",
              "                        <td id=\"T_c2cea8de_4104_11eb_83db_02420a3910c6row3_col0\" class=\"data row3 col0\" >-0.00198706</td>\n",
              "                        <td id=\"T_c2cea8de_4104_11eb_83db_02420a3910c6row3_col1\" class=\"data row3 col1\" >-0.00101239</td>\n",
              "                        <td id=\"T_c2cea8de_4104_11eb_83db_02420a3910c6row3_col2\" class=\"data row3 col2\" >0.445871</td>\n",
              "                        <td id=\"T_c2cea8de_4104_11eb_83db_02420a3910c6row3_col3\" class=\"data row3 col3\" >1</td>\n",
              "            </tr>\n",
              "    </tbody></table>"
            ],
            "text/plain": [
              "<pandas.io.formats.style.Styler at 0x7f7c7ccfe490>"
            ]
          },
          "metadata": {
            "tags": []
          },
          "execution_count": 14
        }
      ]
    },
    {
      "cell_type": "markdown",
      "metadata": {
        "id": "T8IQptqJGLih"
      },
      "source": [
        "<a id=\"step_1.5\"></a>\n",
        "## Построим графики зависимостей значений в таблице для наглядного представления о распределнии данных"
      ]
    },
    {
      "cell_type": "code",
      "metadata": {
        "id": "L22arXu7GLii",
        "outputId": "eda31641-80fc-4676-fda1-85548b4cf8ee"
      },
      "source": [
        "plt.title('Графики распределения запасов сырья в регионах')\n",
        "ax=data_0['product'].plot(kind='hist',figsize=(12,7),grid=True, legend=True, alpha=0.7, histtype='step', linewidth=5, label='1 регион')\n",
        "ax1=data_1['product'].plot(kind='hist',figsize=(12,7),grid=True, legend=True, alpha=0.7,histtype='step', linewidth=5, label='2 регион', ax=ax)\n",
        "data_2['product'].plot(kind='hist',figsize=(12,7),grid=True, legend=True, alpha=0.7,histtype='step', linewidth=5, label='3 регион', ax=ax1)\n",
        "plt.xlabel('Распределение данных по запасам сырья в регионах')\n",
        "plt.ylabel('Запасы сырья, тыс.баррелей')\n",
        "plt.show()"
      ],
      "execution_count": null,
      "outputs": [
        {
          "output_type": "display_data",
          "data": {
            "image/png": "[encoded data removed]",
            "text/plain": [
              "<Figure size 864x504 with 1 Axes>"
            ]
          },
          "metadata": {
            "tags": [],
            "needs_background": "light"
          }
        }
      ]
    },
    {
      "cell_type": "markdown",
      "metadata": {
        "id": "MiM9F5CRGLii"
      },
      "source": [
        "<a id=\"step_1.end\"></a>\n",
        "## Вывод"
      ]
    },
    {
      "cell_type": "markdown",
      "metadata": {
        "id": "dKyHxkQ1GLii"
      },
      "source": [
        "Отлично, данные успешно загружены и не требуют дополнительной предобработки, а так же мы теперь имеем визуальное представление о распределении данных по запасам сырья в регионах. На графике отчётливо показана разительно отличающаяся кривая распределения запасов сырья по скважинам 2 региона, какое значение это может сыграть при анализе рентабильности разработки скважин в данном регионе посмотрим далее. Отметим так же, что на данных по корреляции значений второго регоина, мы видим сильную зависимость целевого показателя '*profit*' от *f0*, такая зависмость можеть дать нам высокие баллы предсказаний для нашей модели. \n"
      ]
    },
    {
      "cell_type": "markdown",
      "metadata": {
        "id": "PA734_U0GLii"
      },
      "source": [
        "---\n",
        "<a href='#start'>Вернуться к оглавлению</a>\n",
        "<a id=\"step_2\"></a>\n",
        "# 2. Обучение и проверка модели"
      ]
    },
    {
      "cell_type": "markdown",
      "metadata": {
        "id": "AdjYp8buGLij"
      },
      "source": [
        "## Перед разбивкой данных и обучением моделей, прменим технику порядкового кодирования при помощи функции `OrdinalEncoder`"
      ]
    },
    {
      "cell_type": "markdown",
      "metadata": {
        "id": "cDTFjQQwGLij"
      },
      "source": [
        "### Применим порядковое кодирование по 1 региону"
      ]
    },
    {
      "cell_type": "code",
      "metadata": {
        "scrolled": true,
        "id": "DzIngK_8GLij",
        "outputId": "c07d0079-0339-41a6-8625-9d235578aa9d"
      },
      "source": [
        "encoder_0 = OrdinalEncoder() \n",
        "encoder_0.fit(data_0)\n",
        "data_ordinal_0 = pd.DataFrame(encoder_0.transform(data_0), columns=data_0.columns)\n",
        "data_0['id'] = (data_ordinal_0['id']).astype('int')\n",
        "data_0.head()"
      ],
      "execution_count": null,
      "outputs": [
        {
          "output_type": "execute_result",
          "data": {
            "text/html": [
              "<div>\n",
              "<style scoped>\n",
              "    .dataframe tbody tr th:only-of-type {\n",
              "        vertical-align: middle;\n",
              "    }\n",
              "\n",
              "    .dataframe tbody tr th {\n",
              "        vertical-align: top;\n",
              "    }\n",
              "\n",
              "    .dataframe thead th {\n",
              "        text-align: right;\n",
              "    }\n",
              "</style>\n",
              "<table border=\"1\" class=\"dataframe\">\n",
              "  <thead>\n",
              "    <tr style=\"text-align: right;\">\n",
              "      <th></th>\n",
              "      <th>id</th>\n",
              "      <th>f0</th>\n",
              "      <th>f1</th>\n",
              "      <th>f2</th>\n",
              "      <th>product</th>\n",
              "    </tr>\n",
              "  </thead>\n",
              "  <tbody>\n",
              "    <tr>\n",
              "      <td>0</td>\n",
              "      <td>90195</td>\n",
              "      <td>0.705745</td>\n",
              "      <td>-0.497823</td>\n",
              "      <td>1.221170</td>\n",
              "      <td>105.280062</td>\n",
              "    </tr>\n",
              "    <tr>\n",
              "      <td>1</td>\n",
              "      <td>4259</td>\n",
              "      <td>1.334711</td>\n",
              "      <td>-0.340164</td>\n",
              "      <td>4.365080</td>\n",
              "      <td>73.037750</td>\n",
              "    </tr>\n",
              "    <tr>\n",
              "      <td>2</td>\n",
              "      <td>6574</td>\n",
              "      <td>1.022732</td>\n",
              "      <td>0.151990</td>\n",
              "      <td>1.419926</td>\n",
              "      <td>85.265647</td>\n",
              "    </tr>\n",
              "    <tr>\n",
              "      <td>3</td>\n",
              "      <td>71446</td>\n",
              "      <td>-0.032172</td>\n",
              "      <td>0.139033</td>\n",
              "      <td>2.978566</td>\n",
              "      <td>168.620776</td>\n",
              "    </tr>\n",
              "    <tr>\n",
              "      <td>4</td>\n",
              "      <td>54252</td>\n",
              "      <td>1.988431</td>\n",
              "      <td>0.155413</td>\n",
              "      <td>4.751769</td>\n",
              "      <td>154.036647</td>\n",
              "    </tr>\n",
              "  </tbody>\n",
              "</table>\n",
              "</div>"
            ],
            "text/plain": [
              "      id        f0        f1        f2     product\n",
              "0  90195  0.705745 -0.497823  1.221170  105.280062\n",
              "1   4259  1.334711 -0.340164  4.365080   73.037750\n",
              "2   6574  1.022732  0.151990  1.419926   85.265647\n",
              "3  71446 -0.032172  0.139033  2.978566  168.620776\n",
              "4  54252  1.988431  0.155413  4.751769  154.036647"
            ]
          },
          "metadata": {
            "tags": []
          },
          "execution_count": 16
        }
      ]
    },
    {
      "cell_type": "markdown",
      "metadata": {
        "id": "ZfR0V39UGLij"
      },
      "source": [
        "### Применим порядковое кодирование по 2 региону"
      ]
    },
    {
      "cell_type": "code",
      "metadata": {
        "id": "ZY74xUkqGLik",
        "outputId": "dab07c5e-9234-4493-852e-24f55ce93235"
      },
      "source": [
        "encoder_1 = OrdinalEncoder() \n",
        "encoder_1.fit(data_1)\n",
        "data_ordinal_1 = pd.DataFrame(encoder_1.transform(data_1), columns=data_1.columns)\n",
        "data_1['id'] = (data_ordinal_1['id']).astype('int')\n",
        "data_1.head()"
      ],
      "execution_count": null,
      "outputs": [
        {
          "output_type": "execute_result",
          "data": {
            "text/html": [
              "<div>\n",
              "<style scoped>\n",
              "    .dataframe tbody tr th:only-of-type {\n",
              "        vertical-align: middle;\n",
              "    }\n",
              "\n",
              "    .dataframe tbody tr th {\n",
              "        vertical-align: top;\n",
              "    }\n",
              "\n",
              "    .dataframe thead th {\n",
              "        text-align: right;\n",
              "    }\n",
              "</style>\n",
              "<table border=\"1\" class=\"dataframe\">\n",
              "  <thead>\n",
              "    <tr style=\"text-align: right;\">\n",
              "      <th></th>\n",
              "      <th>id</th>\n",
              "      <th>f0</th>\n",
              "      <th>f1</th>\n",
              "      <th>f2</th>\n",
              "      <th>product</th>\n",
              "    </tr>\n",
              "  </thead>\n",
              "  <tbody>\n",
              "    <tr>\n",
              "      <td>0</td>\n",
              "      <td>74613</td>\n",
              "      <td>-15.001348</td>\n",
              "      <td>-8.276000</td>\n",
              "      <td>-0.005876</td>\n",
              "      <td>3.179103</td>\n",
              "    </tr>\n",
              "    <tr>\n",
              "      <td>1</td>\n",
              "      <td>9753</td>\n",
              "      <td>14.272088</td>\n",
              "      <td>-3.475083</td>\n",
              "      <td>0.999183</td>\n",
              "      <td>26.953261</td>\n",
              "    </tr>\n",
              "    <tr>\n",
              "      <td>2</td>\n",
              "      <td>93502</td>\n",
              "      <td>6.263187</td>\n",
              "      <td>-5.948386</td>\n",
              "      <td>5.001160</td>\n",
              "      <td>134.766305</td>\n",
              "    </tr>\n",
              "    <tr>\n",
              "      <td>3</td>\n",
              "      <td>33405</td>\n",
              "      <td>-13.081196</td>\n",
              "      <td>-11.506057</td>\n",
              "      <td>4.999415</td>\n",
              "      <td>137.945408</td>\n",
              "    </tr>\n",
              "    <tr>\n",
              "      <td>4</td>\n",
              "      <td>16486</td>\n",
              "      <td>12.702195</td>\n",
              "      <td>-8.147433</td>\n",
              "      <td>5.004363</td>\n",
              "      <td>134.766305</td>\n",
              "    </tr>\n",
              "  </tbody>\n",
              "</table>\n",
              "</div>"
            ],
            "text/plain": [
              "      id         f0         f1        f2     product\n",
              "0  74613 -15.001348  -8.276000 -0.005876    3.179103\n",
              "1   9753  14.272088  -3.475083  0.999183   26.953261\n",
              "2  93502   6.263187  -5.948386  5.001160  134.766305\n",
              "3  33405 -13.081196 -11.506057  4.999415  137.945408\n",
              "4  16486  12.702195  -8.147433  5.004363  134.766305"
            ]
          },
          "metadata": {
            "tags": []
          },
          "execution_count": 17
        }
      ]
    },
    {
      "cell_type": "markdown",
      "metadata": {
        "id": "UfLhhPzLGLik"
      },
      "source": [
        "### Применим порядковое кодирование по 3 региону"
      ]
    },
    {
      "cell_type": "code",
      "metadata": {
        "id": "19CzOXU0GLik",
        "outputId": "764ea101-3cfa-4ba3-f3e7-a2d7015ce3d8"
      },
      "source": [
        "encoder_2 = OrdinalEncoder() \n",
        "encoder_2.fit(data_2)\n",
        "data_ordinal_2 = pd.DataFrame(encoder_2.transform(data_2), columns=data_2.columns)\n",
        "data_2['id'] = (data_ordinal_2['id']).astype('int')\n",
        "data_2.head()"
      ],
      "execution_count": null,
      "outputs": [
        {
          "output_type": "execute_result",
          "data": {
            "text/html": [
              "<div>\n",
              "<style scoped>\n",
              "    .dataframe tbody tr th:only-of-type {\n",
              "        vertical-align: middle;\n",
              "    }\n",
              "\n",
              "    .dataframe tbody tr th {\n",
              "        vertical-align: top;\n",
              "    }\n",
              "\n",
              "    .dataframe thead th {\n",
              "        text-align: right;\n",
              "    }\n",
              "</style>\n",
              "<table border=\"1\" class=\"dataframe\">\n",
              "  <thead>\n",
              "    <tr style=\"text-align: right;\">\n",
              "      <th></th>\n",
              "      <th>id</th>\n",
              "      <th>f0</th>\n",
              "      <th>f1</th>\n",
              "      <th>f2</th>\n",
              "      <th>product</th>\n",
              "    </tr>\n",
              "  </thead>\n",
              "  <tbody>\n",
              "    <tr>\n",
              "      <td>0</td>\n",
              "      <td>67731</td>\n",
              "      <td>-1.146987</td>\n",
              "      <td>0.963328</td>\n",
              "      <td>-0.828965</td>\n",
              "      <td>27.758673</td>\n",
              "    </tr>\n",
              "    <tr>\n",
              "      <td>1</td>\n",
              "      <td>52297</td>\n",
              "      <td>0.262778</td>\n",
              "      <td>0.269839</td>\n",
              "      <td>-2.530187</td>\n",
              "      <td>56.069697</td>\n",
              "    </tr>\n",
              "    <tr>\n",
              "      <td>2</td>\n",
              "      <td>82167</td>\n",
              "      <td>0.194587</td>\n",
              "      <td>0.289035</td>\n",
              "      <td>-5.586433</td>\n",
              "      <td>62.871910</td>\n",
              "    </tr>\n",
              "    <tr>\n",
              "      <td>3</td>\n",
              "      <td>84060</td>\n",
              "      <td>2.236060</td>\n",
              "      <td>-0.553760</td>\n",
              "      <td>0.930038</td>\n",
              "      <td>114.572842</td>\n",
              "    </tr>\n",
              "    <tr>\n",
              "      <td>4</td>\n",
              "      <td>52441</td>\n",
              "      <td>-0.515993</td>\n",
              "      <td>1.716266</td>\n",
              "      <td>5.899011</td>\n",
              "      <td>149.600746</td>\n",
              "    </tr>\n",
              "  </tbody>\n",
              "</table>\n",
              "</div>"
            ],
            "text/plain": [
              "      id        f0        f1        f2     product\n",
              "0  67731 -1.146987  0.963328 -0.828965   27.758673\n",
              "1  52297  0.262778  0.269839 -2.530187   56.069697\n",
              "2  82167  0.194587  0.289035 -5.586433   62.871910\n",
              "3  84060  2.236060 -0.553760  0.930038  114.572842\n",
              "4  52441 -0.515993  1.716266  5.899011  149.600746"
            ]
          },
          "metadata": {
            "tags": []
          },
          "execution_count": 18
        }
      ]
    },
    {
      "cell_type": "markdown",
      "metadata": {
        "id": "UIn-khO0GLik"
      },
      "source": [
        "## Разобьём данные на обучающую и валидационную выборки в соотношении 75:25"
      ]
    },
    {
      "cell_type": "code",
      "metadata": {
        "id": "x7yNkD-ZGLil"
      },
      "source": [
        "target_0=data_0['product']\n",
        "features_0=data_0.drop(['product'], axis=1)\n",
        "\n",
        "target_1=data_1['product']\n",
        "features_1=data_1.drop(['product'], axis=1)\n",
        "\n",
        "target_2=data_2['product']\n",
        "features_2=data_2.drop(['product'], axis=1)"
      ],
      "execution_count": null,
      "outputs": []
    },
    {
      "cell_type": "markdown",
      "metadata": {
        "id": "vbeWYTAaGLil"
      },
      "source": [
        "### 1 регион"
      ]
    },
    {
      "cell_type": "code",
      "metadata": {
        "id": "XYu7ZXqQGLil",
        "outputId": "48fd1c36-bd44-4bc3-fcd4-add9ba12803e"
      },
      "source": [
        "features_train_0, features_valid_0, target_train_0, target_valid_0 = train_test_split(features_0, target_0, test_size=0.25, random_state=42)\n",
        "tv=target_valid_0.shape[0]/target_0.shape[0]\n",
        "tt=target_train_0.shape[0]/target_0.shape[0]\n",
        "\n",
        "print('Размер тренировочной выборки- {:.0%}'.format(tt))\n",
        "print('Размер валидационной выборки - {:.0%}'.format(tv))"
      ],
      "execution_count": null,
      "outputs": [
        {
          "output_type": "stream",
          "text": [
            "Размер тренировочной выборки- 75%\n",
            "Размер валидационной выборки - 25%\n"
          ],
          "name": "stdout"
        }
      ]
    },
    {
      "cell_type": "markdown",
      "metadata": {
        "id": "5wvfpdVQGLim"
      },
      "source": [
        "### 2 регион"
      ]
    },
    {
      "cell_type": "code",
      "metadata": {
        "id": "sxj5kXEZGLim",
        "outputId": "ea8885bf-298a-4d14-ee13-65a20c7984ef"
      },
      "source": [
        "features_train_1, features_valid_1, target_train_1, target_valid_1 = train_test_split(features_1, target_1, test_size=0.25, random_state=42)\n",
        "tv=target_valid_1.shape[0]/target_1.shape[0]\n",
        "tt=target_train_1.shape[0]/target_1.shape[0]\n",
        "\n",
        "print('Размер тренировочной выборки- {:.0%}'.format(tt))\n",
        "print('Размер валидационной выборки - {:.0%}'.format(tv))"
      ],
      "execution_count": null,
      "outputs": [
        {
          "output_type": "stream",
          "text": [
            "Размер тренировочной выборки- 75%\n",
            "Размер валидационной выборки - 25%\n"
          ],
          "name": "stdout"
        }
      ]
    },
    {
      "cell_type": "markdown",
      "metadata": {
        "id": "iVCc5m3OGLim"
      },
      "source": [
        "### 3 регион"
      ]
    },
    {
      "cell_type": "code",
      "metadata": {
        "id": "33cmIM_vGLim",
        "outputId": "605038d0-49dd-4fe6-d9ab-c76972b6a1f4"
      },
      "source": [
        "features_train_2, features_valid_2, target_train_2, target_valid_2 = train_test_split(features_2, target_2, test_size=0.25, random_state=42)\n",
        "tv=target_valid_2.shape[0]/target_2.shape[0]\n",
        "tt=target_train_2.shape[0]/target_2.shape[0]\n",
        "\n",
        "print('Размер тренировочной выборки- {:.0%}'.format(tt))\n",
        "print('Размер валидационной выборки - {:.0%}'.format(tv))"
      ],
      "execution_count": null,
      "outputs": [
        {
          "output_type": "stream",
          "text": [
            "Размер тренировочной выборки- 75%\n",
            "Размер валидационной выборки - 25%\n"
          ],
          "name": "stdout"
        }
      ]
    },
    {
      "cell_type": "markdown",
      "metadata": {
        "id": "JOKicXDPGLim"
      },
      "source": [
        "<a id=\"step_2.1\"></a>\n",
        "## Обучим модель и сделаем предсказания на валидационной выборке, а так же оценим качество модели техникой `RMSE `и коэффициентом детерминации `R2`"
      ]
    },
    {
      "cell_type": "markdown",
      "metadata": {
        "id": "qg2D-vpCGLin"
      },
      "source": [
        "### 1 регион"
      ]
    },
    {
      "cell_type": "code",
      "metadata": {
        "id": "1OXR-_ZuGLin",
        "outputId": "e5c20260-af77-4f51-e479-c0d13ec1215a"
      },
      "source": [
        "model_0=LinearRegression()\n",
        "model_0.fit(features_train_0,target_train_0)\n",
        "predict_0=model_0.predict(features_valid_0)\n",
        "rmse_0 = mean_squared_error(target_valid_0, predict_0)**0.5\n",
        "print('Среднеквадратичная ошибка RMSE: %.2f'% rmse_0)\n",
        "print('Коэффициент детерминации: %.2f' % r2_score(target_valid_0, predict_0))"
      ],
      "execution_count": null,
      "outputs": [
        {
          "output_type": "stream",
          "text": [
            "Среднеквадратичная ошибка RMSE: 37.76\n",
            "Коэффициент детерминации: 0.27\n"
          ],
          "name": "stdout"
        }
      ]
    },
    {
      "cell_type": "markdown",
      "metadata": {
        "id": "PkYPC7DIGLin"
      },
      "source": [
        "### 2 регион"
      ]
    },
    {
      "cell_type": "code",
      "metadata": {
        "id": "xmMtnR8WGLin",
        "outputId": "94af046d-e6f7-4588-fec0-bde2c4ad295b"
      },
      "source": [
        "model_1=LinearRegression()\n",
        "model_1.fit(features_train_1,target_train_1)\n",
        "predict_1=model_1.predict(features_valid_1)\n",
        "rmse_1=mean_squared_error(target_valid_1, predict_1)**0.5\n",
        "print('Среднеквадратичная ошибка RMSE: %.2f' % rmse_1)\n",
        "print('Коэффициент детерминации: %.2f' % r2_score(target_valid_1, predict_1))"
      ],
      "execution_count": null,
      "outputs": [
        {
          "output_type": "stream",
          "text": [
            "Среднеквадратичная ошибка RMSE: 0.89\n",
            "Коэффициент детерминации: 1.00\n"
          ],
          "name": "stdout"
        }
      ]
    },
    {
      "cell_type": "markdown",
      "metadata": {
        "id": "PXEh9dzqGLin"
      },
      "source": [
        "### 3 регион"
      ]
    },
    {
      "cell_type": "code",
      "metadata": {
        "id": "wKZhVTS2GLin",
        "outputId": "9a97db58-ab1c-4355-d923-940768b084a6"
      },
      "source": [
        "model_2=LinearRegression()\n",
        "model_2.fit(features_train_2,target_train_2)\n",
        "predict_2=model_2.predict(features_valid_2)\n",
        "rmse_2 = mean_squared_error(target_valid_2, predict_2)**0.5\n",
        "print('Среднеквадратичная ошибка RMSE: %.2f'% rmse_2)\n",
        "print('Коэффициент детерминации: %.2f' % r2_score(target_valid_2, predict_2))"
      ],
      "execution_count": null,
      "outputs": [
        {
          "output_type": "stream",
          "text": [
            "Среднеквадратичная ошибка RMSE: 40.15\n",
            "Коэффициент детерминации: 0.20\n"
          ],
          "name": "stdout"
        }
      ]
    },
    {
      "cell_type": "markdown",
      "metadata": {
        "id": "dY1lAYwOGLio"
      },
      "source": [
        "<a id=\"step_2.2\"></a>\n",
        "## Сохраним предсказания и правильные ответы на валидационной выборке"
      ]
    },
    {
      "cell_type": "code",
      "metadata": {
        "id": "xyk6HP2zGLio",
        "outputId": "d8e9faa1-6661-4f29-8395-4c22e0d16cec"
      },
      "source": [
        "print('1 регион:\\n- предсказания модели: \"predict_0\"\\n- правильные ответы: \"target_valid_0\"')\n",
        "print()\n",
        "print('2 регион:\\n- предсказания модели: \"predict_1\"\\n- правильные ответы: \"target_valid_1\"')\n",
        "print()\n",
        "print('3 регион:\\n- предсказания модели: \"predict_2\"\\n- правильные ответы: \"target_valid_2\"')"
      ],
      "execution_count": null,
      "outputs": [
        {
          "output_type": "stream",
          "text": [
            "1 регион:\n",
            "- предсказания модели: \"predict_0\"\n",
            "- правильные ответы: \"target_valid_0\"\n",
            "\n",
            "2 регион:\n",
            "- предсказания модели: \"predict_1\"\n",
            "- правильные ответы: \"target_valid_1\"\n",
            "\n",
            "3 регион:\n",
            "- предсказания модели: \"predict_2\"\n",
            "- правильные ответы: \"target_valid_2\"\n"
          ],
          "name": "stdout"
        }
      ]
    },
    {
      "cell_type": "markdown",
      "metadata": {
        "id": "YOUsOEt5GLio"
      },
      "source": [
        "<a id=\"step_2.3\"></a>\n",
        "## Напечатаем на экране средний запас предсказанного сырья и RMSE модели"
      ]
    },
    {
      "cell_type": "code",
      "metadata": {
        "id": "cIepHzwuGLio",
        "outputId": "9597a71e-cb95-4ff9-d6fe-de0eda805f34"
      },
      "source": [
        "comparison_tabl = pd.DataFrame(index=['средний запас предсказанного сырья','RMSE модели'], columns=['1 регион','2 регион','3 регион'])\n",
        "comparison_tabl['1 регион'] = predict_0.mean(), rmse_0\n",
        "comparison_tabl['2 регион'] = predict_1.mean(), rmse_1\n",
        "comparison_tabl['3 регион'] = predict_2.mean(), rmse_2\n",
        "comparison_tabl"
      ],
      "execution_count": null,
      "outputs": [
        {
          "output_type": "execute_result",
          "data": {
            "text/html": [
              "<div>\n",
              "<style scoped>\n",
              "    .dataframe tbody tr th:only-of-type {\n",
              "        vertical-align: middle;\n",
              "    }\n",
              "\n",
              "    .dataframe tbody tr th {\n",
              "        vertical-align: top;\n",
              "    }\n",
              "\n",
              "    .dataframe thead th {\n",
              "        text-align: right;\n",
              "    }\n",
              "</style>\n",
              "<table border=\"1\" class=\"dataframe\">\n",
              "  <thead>\n",
              "    <tr style=\"text-align: right;\">\n",
              "      <th></th>\n",
              "      <th>1 регион</th>\n",
              "      <th>2 регион</th>\n",
              "      <th>3 регион</th>\n",
              "    </tr>\n",
              "  </thead>\n",
              "  <tbody>\n",
              "    <tr>\n",
              "      <td>средний запас предсказанного сырья</td>\n",
              "      <td>92.399126</td>\n",
              "      <td>68.712878</td>\n",
              "      <td>94.772268</td>\n",
              "    </tr>\n",
              "    <tr>\n",
              "      <td>RMSE модели</td>\n",
              "      <td>37.756800</td>\n",
              "      <td>0.890263</td>\n",
              "      <td>40.145723</td>\n",
              "    </tr>\n",
              "  </tbody>\n",
              "</table>\n",
              "</div>"
            ],
            "text/plain": [
              "                                     1 регион   2 регион   3 регион\n",
              "средний запас предсказанного сырья  92.399126  68.712878  94.772268\n",
              "RMSE модели                         37.756800   0.890263  40.145723"
            ]
          },
          "metadata": {
            "tags": []
          },
          "execution_count": 27
        }
      ]
    },
    {
      "cell_type": "markdown",
      "metadata": {
        "id": "p4w7TEIKGLip"
      },
      "source": [
        "<a id=\"step_2.end\"></a>\n",
        "## Вывод"
      ]
    },
    {
      "cell_type": "markdown",
      "metadata": {
        "id": "UjquW67OGLip"
      },
      "source": [
        "Модели обучены и проверены на качество предсказания метрикой RMSE, которая определяет величину среднеквадратичной ошибки в предсказании модели. Исходя из полученных данный в нашей сводной таблицы, можно заметить, что величина RMSE во втором регионе сильно отличается от двух других, это связано с тем, что модель обучилась на практически равных по величине данных, и величина ошибки этой модели не может сильно варьирываться."
      ]
    },
    {
      "cell_type": "markdown",
      "metadata": {
        "id": "WwvmisrzGLiq"
      },
      "source": [
        "---\n",
        "<a href='#start'>Вернуться к оглавлению</a>\n",
        "<a id=\"step_3\"></a>\n",
        "# 3. Подготовка к расчёту прибыли"
      ]
    },
    {
      "cell_type": "markdown",
      "metadata": {
        "id": "V_kfzgexGLiq"
      },
      "source": [
        "## Все ключевые значения для расчётов сохраним в отдельных переменных "
      ]
    },
    {
      "cell_type": "markdown",
      "metadata": {
        "id": "3MM3JonfGLiq"
      },
      "source": [
        "При разведке региона исследуюем *500* точек, из которых с помощью машинного обучения выберем *200* лучших для разработки.<br>\n",
        "Бюджет на разработку скважин в регионе — **10 млрд рублей.**<br>\n",
        "При нынешних ценах один баррель сырья приносит *450* рублей дохода. Доход с каждой единицы продукта составляет **450 тыс.<br> рублей**, поскольку объём указан в тысячах баррелей.<br>\n",
        "После оценки рисков оставим лишь те регионы, в которых вероятность убытков меньше **2.5%**. Среди них выберем регион с наибольшей средней прибылью.<br>"
      ]
    },
    {
      "cell_type": "code",
      "metadata": {
        "id": "AWlG17HaGLir"
      },
      "source": [
        "BUDGET = 10000000 #Бюджет на разработку скважин в регионе, тыс.руб\n",
        "INCOME_ONE_PROD = 450 #Доход с каждой единицы продукта, тыс.руб\n",
        "target_probability_losses = 2.5/100 # вероятность убытков\n",
        "product_mean_0 = data_0['product'].mean()\n",
        "product_mean_1 = data_1['product'].mean()\n",
        "product_mean_2 = data_2['product'].mean()"
      ],
      "execution_count": null,
      "outputs": []
    },
    {
      "cell_type": "code",
      "metadata": {
        "scrolled": true,
        "id": "YtlvW3JLGLir",
        "outputId": "438421ae-9d41-4d5f-d4df-b97059e224ac"
      },
      "source": [
        "print('Cредний запас сырья в 1 регионе: %.2f млн.баррелей'%product_mean_0)\n",
        "print('Cредний запас сырья в 2 регионе: %.2f млн.баррелей'%product_mean_1)\n",
        "print('Cредний запас сырья в 3 регионе: %.2f млн.баррелей'%product_mean_2)"
      ],
      "execution_count": null,
      "outputs": [
        {
          "output_type": "stream",
          "text": [
            "Cредний запас сырья в 1 регионе: 92.50 млн.баррелей\n",
            "Cредний запас сырья в 2 регионе: 68.83 млн.баррелей\n",
            "Cредний запас сырья в 3 регионе: 95.00 млн.баррелей\n"
          ],
          "name": "stdout"
        }
      ]
    },
    {
      "cell_type": "code",
      "metadata": {
        "id": "I9B7lbeQGLir",
        "outputId": "bd9f7a8b-b99a-49d2-d3b4-6c30a9161fa1"
      },
      "source": [
        "budg_per_1_point=(BUDGET/200)# тыс.руб\n",
        "print('Бюджет на разработку одной скважины:', budg_per_1_point/1000,'млн.руб')"
      ],
      "execution_count": null,
      "outputs": [
        {
          "output_type": "stream",
          "text": [
            "Бюджет на разработку одной скважины: 50.0 млн.руб\n"
          ],
          "name": "stdout"
        }
      ]
    },
    {
      "cell_type": "markdown",
      "metadata": {
        "id": "4bMA_IhxGLis"
      },
      "source": [
        "<a id=\"step_3.1\"></a>\n",
        "##  Рассчитаем достаточный объём сырья для безубыточной разработки новой скважины"
      ]
    },
    {
      "cell_type": "code",
      "metadata": {
        "scrolled": true,
        "id": "q-EDSCCWGLis",
        "outputId": "e478e50c-3fa7-4360-f406-aa2a1b414ecc"
      },
      "source": [
        "v_prod=budg_per_1_point/INCOME_ONE_PROD\n",
        "print('Объём каждой скважины для безубыточной разработки должен составлять не менее: %.2f'%v_prod,'тыс.баррелей')"
      ],
      "execution_count": null,
      "outputs": [
        {
          "output_type": "stream",
          "text": [
            "Объём каждой скважины для безубыточной разработки должен составлять не менее: 111.11 тыс.баррелей\n"
          ],
          "name": "stdout"
        }
      ]
    },
    {
      "cell_type": "markdown",
      "metadata": {
        "id": "6F4mUcD2GLit"
      },
      "source": [
        "<a id=\"step_3.2\"></a>\n",
        "##  Сравним полученный объём сырья со средним запасом в каждом регионе"
      ]
    },
    {
      "cell_type": "markdown",
      "metadata": {
        "id": "CMNyHoW7GLit"
      },
      "source": [
        "### 1 регион"
      ]
    },
    {
      "cell_type": "code",
      "metadata": {
        "scrolled": true,
        "id": "lXzkrkC1GLit",
        "outputId": "d0f9fe9d-747e-4695-bded-e2bfa859a497"
      },
      "source": [
        "data_0['profit']=(data_0['product']*(INCOME_ONE_PROD)).round(2) # profit, тыс.руб\n",
        "data_0.head()"
      ],
      "execution_count": null,
      "outputs": [
        {
          "output_type": "execute_result",
          "data": {
            "text/html": [
              "<div>\n",
              "<style scoped>\n",
              "    .dataframe tbody tr th:only-of-type {\n",
              "        vertical-align: middle;\n",
              "    }\n",
              "\n",
              "    .dataframe tbody tr th {\n",
              "        vertical-align: top;\n",
              "    }\n",
              "\n",
              "    .dataframe thead th {\n",
              "        text-align: right;\n",
              "    }\n",
              "</style>\n",
              "<table border=\"1\" class=\"dataframe\">\n",
              "  <thead>\n",
              "    <tr style=\"text-align: right;\">\n",
              "      <th></th>\n",
              "      <th>id</th>\n",
              "      <th>f0</th>\n",
              "      <th>f1</th>\n",
              "      <th>f2</th>\n",
              "      <th>product</th>\n",
              "      <th>profit</th>\n",
              "    </tr>\n",
              "  </thead>\n",
              "  <tbody>\n",
              "    <tr>\n",
              "      <td>0</td>\n",
              "      <td>90195</td>\n",
              "      <td>0.705745</td>\n",
              "      <td>-0.497823</td>\n",
              "      <td>1.221170</td>\n",
              "      <td>105.280062</td>\n",
              "      <td>47376.03</td>\n",
              "    </tr>\n",
              "    <tr>\n",
              "      <td>1</td>\n",
              "      <td>4259</td>\n",
              "      <td>1.334711</td>\n",
              "      <td>-0.340164</td>\n",
              "      <td>4.365080</td>\n",
              "      <td>73.037750</td>\n",
              "      <td>32866.99</td>\n",
              "    </tr>\n",
              "    <tr>\n",
              "      <td>2</td>\n",
              "      <td>6574</td>\n",
              "      <td>1.022732</td>\n",
              "      <td>0.151990</td>\n",
              "      <td>1.419926</td>\n",
              "      <td>85.265647</td>\n",
              "      <td>38369.54</td>\n",
              "    </tr>\n",
              "    <tr>\n",
              "      <td>3</td>\n",
              "      <td>71446</td>\n",
              "      <td>-0.032172</td>\n",
              "      <td>0.139033</td>\n",
              "      <td>2.978566</td>\n",
              "      <td>168.620776</td>\n",
              "      <td>75879.35</td>\n",
              "    </tr>\n",
              "    <tr>\n",
              "      <td>4</td>\n",
              "      <td>54252</td>\n",
              "      <td>1.988431</td>\n",
              "      <td>0.155413</td>\n",
              "      <td>4.751769</td>\n",
              "      <td>154.036647</td>\n",
              "      <td>69316.49</td>\n",
              "    </tr>\n",
              "  </tbody>\n",
              "</table>\n",
              "</div>"
            ],
            "text/plain": [
              "      id        f0        f1        f2     product    profit\n",
              "0  90195  0.705745 -0.497823  1.221170  105.280062  47376.03\n",
              "1   4259  1.334711 -0.340164  4.365080   73.037750  32866.99\n",
              "2   6574  1.022732  0.151990  1.419926   85.265647  38369.54\n",
              "3  71446 -0.032172  0.139033  2.978566  168.620776  75879.35\n",
              "4  54252  1.988431  0.155413  4.751769  154.036647  69316.49"
            ]
          },
          "metadata": {
            "tags": []
          },
          "execution_count": 32
        }
      ]
    },
    {
      "cell_type": "markdown",
      "metadata": {
        "id": "83wodUNtGLit"
      },
      "source": [
        "##### Определим значение ROI для каждой скважины по отношению к затратам на разработку"
      ]
    },
    {
      "cell_type": "code",
      "metadata": {
        "scrolled": false,
        "id": "TCWp-t85GLit",
        "outputId": "72ce1cd7-bd93-4b74-d976-8ab64f3757fe"
      },
      "source": [
        "data_0['roi_%']=((data_0['profit']-budg_per_1_point)/budg_per_1_point*100).round(2)\n",
        "data_0.head()"
      ],
      "execution_count": null,
      "outputs": [
        {
          "output_type": "execute_result",
          "data": {
            "text/html": [
              "<div>\n",
              "<style scoped>\n",
              "    .dataframe tbody tr th:only-of-type {\n",
              "        vertical-align: middle;\n",
              "    }\n",
              "\n",
              "    .dataframe tbody tr th {\n",
              "        vertical-align: top;\n",
              "    }\n",
              "\n",
              "    .dataframe thead th {\n",
              "        text-align: right;\n",
              "    }\n",
              "</style>\n",
              "<table border=\"1\" class=\"dataframe\">\n",
              "  <thead>\n",
              "    <tr style=\"text-align: right;\">\n",
              "      <th></th>\n",
              "      <th>id</th>\n",
              "      <th>f0</th>\n",
              "      <th>f1</th>\n",
              "      <th>f2</th>\n",
              "      <th>product</th>\n",
              "      <th>profit</th>\n",
              "      <th>roi_%</th>\n",
              "    </tr>\n",
              "  </thead>\n",
              "  <tbody>\n",
              "    <tr>\n",
              "      <td>0</td>\n",
              "      <td>90195</td>\n",
              "      <td>0.705745</td>\n",
              "      <td>-0.497823</td>\n",
              "      <td>1.221170</td>\n",
              "      <td>105.280062</td>\n",
              "      <td>47376.03</td>\n",
              "      <td>-5.25</td>\n",
              "    </tr>\n",
              "    <tr>\n",
              "      <td>1</td>\n",
              "      <td>4259</td>\n",
              "      <td>1.334711</td>\n",
              "      <td>-0.340164</td>\n",
              "      <td>4.365080</td>\n",
              "      <td>73.037750</td>\n",
              "      <td>32866.99</td>\n",
              "      <td>-34.27</td>\n",
              "    </tr>\n",
              "    <tr>\n",
              "      <td>2</td>\n",
              "      <td>6574</td>\n",
              "      <td>1.022732</td>\n",
              "      <td>0.151990</td>\n",
              "      <td>1.419926</td>\n",
              "      <td>85.265647</td>\n",
              "      <td>38369.54</td>\n",
              "      <td>-23.26</td>\n",
              "    </tr>\n",
              "    <tr>\n",
              "      <td>3</td>\n",
              "      <td>71446</td>\n",
              "      <td>-0.032172</td>\n",
              "      <td>0.139033</td>\n",
              "      <td>2.978566</td>\n",
              "      <td>168.620776</td>\n",
              "      <td>75879.35</td>\n",
              "      <td>51.76</td>\n",
              "    </tr>\n",
              "    <tr>\n",
              "      <td>4</td>\n",
              "      <td>54252</td>\n",
              "      <td>1.988431</td>\n",
              "      <td>0.155413</td>\n",
              "      <td>4.751769</td>\n",
              "      <td>154.036647</td>\n",
              "      <td>69316.49</td>\n",
              "      <td>38.63</td>\n",
              "    </tr>\n",
              "  </tbody>\n",
              "</table>\n",
              "</div>"
            ],
            "text/plain": [
              "      id        f0        f1        f2     product    profit  roi_%\n",
              "0  90195  0.705745 -0.497823  1.221170  105.280062  47376.03  -5.25\n",
              "1   4259  1.334711 -0.340164  4.365080   73.037750  32866.99 -34.27\n",
              "2   6574  1.022732  0.151990  1.419926   85.265647  38369.54 -23.26\n",
              "3  71446 -0.032172  0.139033  2.978566  168.620776  75879.35  51.76\n",
              "4  54252  1.988431  0.155413  4.751769  154.036647  69316.49  38.63"
            ]
          },
          "metadata": {
            "tags": []
          },
          "execution_count": 33
        }
      ]
    },
    {
      "cell_type": "code",
      "metadata": {
        "scrolled": true,
        "id": "OJB13S3GGLiu",
        "outputId": "13cf68ba-173a-4439-a4d5-67de11e518a7"
      },
      "source": [
        "print('Разница объёма сырья для безубыточной разработки скважины относительно среднего значения по 1 региону составляет: {:.2%}'.format(product_mean_0/v_prod-1))\n",
        "print('Или {:.2f} тыс.баррелей'.format(v_prod-product_mean_0))"
      ],
      "execution_count": null,
      "outputs": [
        {
          "output_type": "stream",
          "text": [
            "Разница объёма сырья для безубыточной разработки скважины относительно среднего значения по 1 региону составляет: -16.75%\n",
            "Или 18.61 тыс.баррелей\n"
          ],
          "name": "stdout"
        }
      ]
    },
    {
      "cell_type": "markdown",
      "metadata": {
        "id": "U3EGDsGIGLiu"
      },
      "source": [
        "### 2 регион"
      ]
    },
    {
      "cell_type": "code",
      "metadata": {
        "scrolled": false,
        "id": "DuHpNY6sGLiu",
        "outputId": "b38ce16b-5354-4479-b1b9-83870182d61b"
      },
      "source": [
        "data_1['profit']=(data_1['product']*INCOME_ONE_PROD).round(2) # profit, тыс.руб\n",
        "data_1.head()"
      ],
      "execution_count": null,
      "outputs": [
        {
          "output_type": "execute_result",
          "data": {
            "text/html": [
              "<div>\n",
              "<style scoped>\n",
              "    .dataframe tbody tr th:only-of-type {\n",
              "        vertical-align: middle;\n",
              "    }\n",
              "\n",
              "    .dataframe tbody tr th {\n",
              "        vertical-align: top;\n",
              "    }\n",
              "\n",
              "    .dataframe thead th {\n",
              "        text-align: right;\n",
              "    }\n",
              "</style>\n",
              "<table border=\"1\" class=\"dataframe\">\n",
              "  <thead>\n",
              "    <tr style=\"text-align: right;\">\n",
              "      <th></th>\n",
              "      <th>id</th>\n",
              "      <th>f0</th>\n",
              "      <th>f1</th>\n",
              "      <th>f2</th>\n",
              "      <th>product</th>\n",
              "      <th>profit</th>\n",
              "    </tr>\n",
              "  </thead>\n",
              "  <tbody>\n",
              "    <tr>\n",
              "      <td>0</td>\n",
              "      <td>74613</td>\n",
              "      <td>-15.001348</td>\n",
              "      <td>-8.276000</td>\n",
              "      <td>-0.005876</td>\n",
              "      <td>3.179103</td>\n",
              "      <td>1430.60</td>\n",
              "    </tr>\n",
              "    <tr>\n",
              "      <td>1</td>\n",
              "      <td>9753</td>\n",
              "      <td>14.272088</td>\n",
              "      <td>-3.475083</td>\n",
              "      <td>0.999183</td>\n",
              "      <td>26.953261</td>\n",
              "      <td>12128.97</td>\n",
              "    </tr>\n",
              "    <tr>\n",
              "      <td>2</td>\n",
              "      <td>93502</td>\n",
              "      <td>6.263187</td>\n",
              "      <td>-5.948386</td>\n",
              "      <td>5.001160</td>\n",
              "      <td>134.766305</td>\n",
              "      <td>60644.84</td>\n",
              "    </tr>\n",
              "    <tr>\n",
              "      <td>3</td>\n",
              "      <td>33405</td>\n",
              "      <td>-13.081196</td>\n",
              "      <td>-11.506057</td>\n",
              "      <td>4.999415</td>\n",
              "      <td>137.945408</td>\n",
              "      <td>62075.43</td>\n",
              "    </tr>\n",
              "    <tr>\n",
              "      <td>4</td>\n",
              "      <td>16486</td>\n",
              "      <td>12.702195</td>\n",
              "      <td>-8.147433</td>\n",
              "      <td>5.004363</td>\n",
              "      <td>134.766305</td>\n",
              "      <td>60644.84</td>\n",
              "    </tr>\n",
              "  </tbody>\n",
              "</table>\n",
              "</div>"
            ],
            "text/plain": [
              "      id         f0         f1        f2     product    profit\n",
              "0  74613 -15.001348  -8.276000 -0.005876    3.179103   1430.60\n",
              "1   9753  14.272088  -3.475083  0.999183   26.953261  12128.97\n",
              "2  93502   6.263187  -5.948386  5.001160  134.766305  60644.84\n",
              "3  33405 -13.081196 -11.506057  4.999415  137.945408  62075.43\n",
              "4  16486  12.702195  -8.147433  5.004363  134.766305  60644.84"
            ]
          },
          "metadata": {
            "tags": []
          },
          "execution_count": 35
        }
      ]
    },
    {
      "cell_type": "markdown",
      "metadata": {
        "id": "A4a5QBbfGLiu"
      },
      "source": [
        "##### Определим значение ROI для каждой скважины по отношению к затратам на разработку"
      ]
    },
    {
      "cell_type": "code",
      "metadata": {
        "scrolled": true,
        "id": "9QQYvFdwGLiu",
        "outputId": "8dd77a46-3d63-4b3b-ace7-dee6afcf1d7a"
      },
      "source": [
        "data_1['roi_%']=((data_1['profit']-budg_per_1_point)/budg_per_1_point*100).round(2)\n",
        "data_1.head()"
      ],
      "execution_count": null,
      "outputs": [
        {
          "output_type": "execute_result",
          "data": {
            "text/html": [
              "<div>\n",
              "<style scoped>\n",
              "    .dataframe tbody tr th:only-of-type {\n",
              "        vertical-align: middle;\n",
              "    }\n",
              "\n",
              "    .dataframe tbody tr th {\n",
              "        vertical-align: top;\n",
              "    }\n",
              "\n",
              "    .dataframe thead th {\n",
              "        text-align: right;\n",
              "    }\n",
              "</style>\n",
              "<table border=\"1\" class=\"dataframe\">\n",
              "  <thead>\n",
              "    <tr style=\"text-align: right;\">\n",
              "      <th></th>\n",
              "      <th>id</th>\n",
              "      <th>f0</th>\n",
              "      <th>f1</th>\n",
              "      <th>f2</th>\n",
              "      <th>product</th>\n",
              "      <th>profit</th>\n",
              "      <th>roi_%</th>\n",
              "    </tr>\n",
              "  </thead>\n",
              "  <tbody>\n",
              "    <tr>\n",
              "      <td>0</td>\n",
              "      <td>74613</td>\n",
              "      <td>-15.001348</td>\n",
              "      <td>-8.276000</td>\n",
              "      <td>-0.005876</td>\n",
              "      <td>3.179103</td>\n",
              "      <td>1430.60</td>\n",
              "      <td>-97.14</td>\n",
              "    </tr>\n",
              "    <tr>\n",
              "      <td>1</td>\n",
              "      <td>9753</td>\n",
              "      <td>14.272088</td>\n",
              "      <td>-3.475083</td>\n",
              "      <td>0.999183</td>\n",
              "      <td>26.953261</td>\n",
              "      <td>12128.97</td>\n",
              "      <td>-75.74</td>\n",
              "    </tr>\n",
              "    <tr>\n",
              "      <td>2</td>\n",
              "      <td>93502</td>\n",
              "      <td>6.263187</td>\n",
              "      <td>-5.948386</td>\n",
              "      <td>5.001160</td>\n",
              "      <td>134.766305</td>\n",
              "      <td>60644.84</td>\n",
              "      <td>21.29</td>\n",
              "    </tr>\n",
              "    <tr>\n",
              "      <td>3</td>\n",
              "      <td>33405</td>\n",
              "      <td>-13.081196</td>\n",
              "      <td>-11.506057</td>\n",
              "      <td>4.999415</td>\n",
              "      <td>137.945408</td>\n",
              "      <td>62075.43</td>\n",
              "      <td>24.15</td>\n",
              "    </tr>\n",
              "    <tr>\n",
              "      <td>4</td>\n",
              "      <td>16486</td>\n",
              "      <td>12.702195</td>\n",
              "      <td>-8.147433</td>\n",
              "      <td>5.004363</td>\n",
              "      <td>134.766305</td>\n",
              "      <td>60644.84</td>\n",
              "      <td>21.29</td>\n",
              "    </tr>\n",
              "  </tbody>\n",
              "</table>\n",
              "</div>"
            ],
            "text/plain": [
              "      id         f0         f1        f2     product    profit  roi_%\n",
              "0  74613 -15.001348  -8.276000 -0.005876    3.179103   1430.60 -97.14\n",
              "1   9753  14.272088  -3.475083  0.999183   26.953261  12128.97 -75.74\n",
              "2  93502   6.263187  -5.948386  5.001160  134.766305  60644.84  21.29\n",
              "3  33405 -13.081196 -11.506057  4.999415  137.945408  62075.43  24.15\n",
              "4  16486  12.702195  -8.147433  5.004363  134.766305  60644.84  21.29"
            ]
          },
          "metadata": {
            "tags": []
          },
          "execution_count": 36
        }
      ]
    },
    {
      "cell_type": "code",
      "metadata": {
        "id": "5Gl6WqILGLiv",
        "outputId": "e097bc48-9d73-47fb-ee02-a5a98b8453dc"
      },
      "source": [
        "print('Разница объёма сырья для безубыточной разработки скважины относительно среднего значения по 2 региону составляет: {:.2%}'.format(product_mean_1/v_prod-1))\n",
        "print('Или {:.2f} тыс.баррелей'.format(v_prod-product_mean_1))"
      ],
      "execution_count": null,
      "outputs": [
        {
          "output_type": "stream",
          "text": [
            "Разница объёма сырья для безубыточной разработки скважины относительно среднего значения по 2 региону составляет: -38.06%\n",
            "Или 42.29 тыс.баррелей\n"
          ],
          "name": "stdout"
        }
      ]
    },
    {
      "cell_type": "markdown",
      "metadata": {
        "id": "srjoSzqxGLiv"
      },
      "source": [
        "### 3 регион"
      ]
    },
    {
      "cell_type": "code",
      "metadata": {
        "scrolled": false,
        "id": "cB_OW8jAGLiv",
        "outputId": "9967a987-ab11-4af8-eeb4-041e5f3c9326"
      },
      "source": [
        "data_2['profit']=(data_2['product']*INCOME_ONE_PROD).round(2) # profit, тыс.руб\n",
        "data_2.head()"
      ],
      "execution_count": null,
      "outputs": [
        {
          "output_type": "execute_result",
          "data": {
            "text/html": [
              "<div>\n",
              "<style scoped>\n",
              "    .dataframe tbody tr th:only-of-type {\n",
              "        vertical-align: middle;\n",
              "    }\n",
              "\n",
              "    .dataframe tbody tr th {\n",
              "        vertical-align: top;\n",
              "    }\n",
              "\n",
              "    .dataframe thead th {\n",
              "        text-align: right;\n",
              "    }\n",
              "</style>\n",
              "<table border=\"1\" class=\"dataframe\">\n",
              "  <thead>\n",
              "    <tr style=\"text-align: right;\">\n",
              "      <th></th>\n",
              "      <th>id</th>\n",
              "      <th>f0</th>\n",
              "      <th>f1</th>\n",
              "      <th>f2</th>\n",
              "      <th>product</th>\n",
              "      <th>profit</th>\n",
              "    </tr>\n",
              "  </thead>\n",
              "  <tbody>\n",
              "    <tr>\n",
              "      <td>0</td>\n",
              "      <td>67731</td>\n",
              "      <td>-1.146987</td>\n",
              "      <td>0.963328</td>\n",
              "      <td>-0.828965</td>\n",
              "      <td>27.758673</td>\n",
              "      <td>12491.40</td>\n",
              "    </tr>\n",
              "    <tr>\n",
              "      <td>1</td>\n",
              "      <td>52297</td>\n",
              "      <td>0.262778</td>\n",
              "      <td>0.269839</td>\n",
              "      <td>-2.530187</td>\n",
              "      <td>56.069697</td>\n",
              "      <td>25231.36</td>\n",
              "    </tr>\n",
              "    <tr>\n",
              "      <td>2</td>\n",
              "      <td>82167</td>\n",
              "      <td>0.194587</td>\n",
              "      <td>0.289035</td>\n",
              "      <td>-5.586433</td>\n",
              "      <td>62.871910</td>\n",
              "      <td>28292.36</td>\n",
              "    </tr>\n",
              "    <tr>\n",
              "      <td>3</td>\n",
              "      <td>84060</td>\n",
              "      <td>2.236060</td>\n",
              "      <td>-0.553760</td>\n",
              "      <td>0.930038</td>\n",
              "      <td>114.572842</td>\n",
              "      <td>51557.78</td>\n",
              "    </tr>\n",
              "    <tr>\n",
              "      <td>4</td>\n",
              "      <td>52441</td>\n",
              "      <td>-0.515993</td>\n",
              "      <td>1.716266</td>\n",
              "      <td>5.899011</td>\n",
              "      <td>149.600746</td>\n",
              "      <td>67320.34</td>\n",
              "    </tr>\n",
              "  </tbody>\n",
              "</table>\n",
              "</div>"
            ],
            "text/plain": [
              "      id        f0        f1        f2     product    profit\n",
              "0  67731 -1.146987  0.963328 -0.828965   27.758673  12491.40\n",
              "1  52297  0.262778  0.269839 -2.530187   56.069697  25231.36\n",
              "2  82167  0.194587  0.289035 -5.586433   62.871910  28292.36\n",
              "3  84060  2.236060 -0.553760  0.930038  114.572842  51557.78\n",
              "4  52441 -0.515993  1.716266  5.899011  149.600746  67320.34"
            ]
          },
          "metadata": {
            "tags": []
          },
          "execution_count": 38
        }
      ]
    },
    {
      "cell_type": "markdown",
      "metadata": {
        "id": "0rrrIR1sGLiv"
      },
      "source": [
        "##### Определим значение ROI для каждой скважины по отношению к затратам на разработку"
      ]
    },
    {
      "cell_type": "code",
      "metadata": {
        "scrolled": false,
        "id": "zKOu7co8GLiv",
        "outputId": "305d7440-fd9a-4343-a8e1-e6fb0d61393b"
      },
      "source": [
        "data_2['roi_%']=((data_2['profit']-budg_per_1_point)/budg_per_1_point*100).round(2)\n",
        "data_2.head()"
      ],
      "execution_count": null,
      "outputs": [
        {
          "output_type": "execute_result",
          "data": {
            "text/html": [
              "<div>\n",
              "<style scoped>\n",
              "    .dataframe tbody tr th:only-of-type {\n",
              "        vertical-align: middle;\n",
              "    }\n",
              "\n",
              "    .dataframe tbody tr th {\n",
              "        vertical-align: top;\n",
              "    }\n",
              "\n",
              "    .dataframe thead th {\n",
              "        text-align: right;\n",
              "    }\n",
              "</style>\n",
              "<table border=\"1\" class=\"dataframe\">\n",
              "  <thead>\n",
              "    <tr style=\"text-align: right;\">\n",
              "      <th></th>\n",
              "      <th>id</th>\n",
              "      <th>f0</th>\n",
              "      <th>f1</th>\n",
              "      <th>f2</th>\n",
              "      <th>product</th>\n",
              "      <th>profit</th>\n",
              "      <th>roi_%</th>\n",
              "    </tr>\n",
              "  </thead>\n",
              "  <tbody>\n",
              "    <tr>\n",
              "      <td>0</td>\n",
              "      <td>67731</td>\n",
              "      <td>-1.146987</td>\n",
              "      <td>0.963328</td>\n",
              "      <td>-0.828965</td>\n",
              "      <td>27.758673</td>\n",
              "      <td>12491.40</td>\n",
              "      <td>-75.02</td>\n",
              "    </tr>\n",
              "    <tr>\n",
              "      <td>1</td>\n",
              "      <td>52297</td>\n",
              "      <td>0.262778</td>\n",
              "      <td>0.269839</td>\n",
              "      <td>-2.530187</td>\n",
              "      <td>56.069697</td>\n",
              "      <td>25231.36</td>\n",
              "      <td>-49.54</td>\n",
              "    </tr>\n",
              "    <tr>\n",
              "      <td>2</td>\n",
              "      <td>82167</td>\n",
              "      <td>0.194587</td>\n",
              "      <td>0.289035</td>\n",
              "      <td>-5.586433</td>\n",
              "      <td>62.871910</td>\n",
              "      <td>28292.36</td>\n",
              "      <td>-43.42</td>\n",
              "    </tr>\n",
              "    <tr>\n",
              "      <td>3</td>\n",
              "      <td>84060</td>\n",
              "      <td>2.236060</td>\n",
              "      <td>-0.553760</td>\n",
              "      <td>0.930038</td>\n",
              "      <td>114.572842</td>\n",
              "      <td>51557.78</td>\n",
              "      <td>3.12</td>\n",
              "    </tr>\n",
              "    <tr>\n",
              "      <td>4</td>\n",
              "      <td>52441</td>\n",
              "      <td>-0.515993</td>\n",
              "      <td>1.716266</td>\n",
              "      <td>5.899011</td>\n",
              "      <td>149.600746</td>\n",
              "      <td>67320.34</td>\n",
              "      <td>34.64</td>\n",
              "    </tr>\n",
              "  </tbody>\n",
              "</table>\n",
              "</div>"
            ],
            "text/plain": [
              "      id        f0        f1        f2     product    profit  roi_%\n",
              "0  67731 -1.146987  0.963328 -0.828965   27.758673  12491.40 -75.02\n",
              "1  52297  0.262778  0.269839 -2.530187   56.069697  25231.36 -49.54\n",
              "2  82167  0.194587  0.289035 -5.586433   62.871910  28292.36 -43.42\n",
              "3  84060  2.236060 -0.553760  0.930038  114.572842  51557.78   3.12\n",
              "4  52441 -0.515993  1.716266  5.899011  149.600746  67320.34  34.64"
            ]
          },
          "metadata": {
            "tags": []
          },
          "execution_count": 39
        }
      ]
    },
    {
      "cell_type": "code",
      "metadata": {
        "id": "f9KdLY3fGLiw",
        "outputId": "e0debce7-2e73-4a9a-b303-b4aea37f3ab2"
      },
      "source": [
        "print('Разница объёма сырья для безубыточной разработки скважины относительно среднего значения по 3 региону составляет: {:.2%}'.format(product_mean_2/v_prod-1))\n",
        "print('Или {:.2f} тыс.баррелей'.format(v_prod-product_mean_2))"
      ],
      "execution_count": null,
      "outputs": [
        {
          "output_type": "stream",
          "text": [
            "Разница объёма сырья для безубыточной разработки скважины относительно среднего значения по 3 региону составляет: -14.50%\n",
            "Или 16.11 тыс.баррелей\n"
          ],
          "name": "stdout"
        }
      ]
    },
    {
      "cell_type": "markdown",
      "metadata": {
        "id": "X9A-ZkPDGLiw"
      },
      "source": [
        "<a id=\"step_3.end\"></a>\n",
        "## Вывод"
      ]
    },
    {
      "cell_type": "markdown",
      "metadata": {
        "id": "F4-8txaqGLiw"
      },
      "source": [
        "Исходя из полученных данных становится очевидно, что среднее количество запасов сырья по регионам недостаточное даже для окупаемости разработки, требуется выбрать скважины с максимальными запасами"
      ]
    },
    {
      "cell_type": "markdown",
      "metadata": {
        "id": "gIkriVvqGLiw"
      },
      "source": [
        "---\n",
        "<a href='#start'>Вернуться к оглавлению</a>\n",
        "<a id=\"step_4\"></a>\n",
        "# 4. Функция для расчёта прибыли по выбранным скважинам и предсказаниям модели: "
      ]
    },
    {
      "cell_type": "markdown",
      "metadata": {
        "id": "_naHbMcrGLiw"
      },
      "source": [
        "## Выберем скважины с максимальными значениями предсказаний"
      ]
    },
    {
      "cell_type": "code",
      "metadata": {
        "scrolled": true,
        "id": "kLo2xdPaGLiw",
        "outputId": "c4b24feb-82a9-436b-b001-2708c918f476"
      },
      "source": [
        "predict_0"
      ],
      "execution_count": null,
      "outputs": [
        {
          "output_type": "execute_result",
          "data": {
            "text/plain": [
              "array([101.83511216,  78.24108195, 115.18489384, ...,  82.60196996,\n",
              "        81.87859345,  93.09769153])"
            ]
          },
          "metadata": {
            "tags": []
          },
          "execution_count": 41
        }
      ]
    },
    {
      "cell_type": "markdown",
      "metadata": {
        "id": "K_PDI-6ZGLiw"
      },
      "source": [
        "##### Выполним привязку индексов скважин к предсказаниям модели и отсорируем список по убыванию"
      ]
    },
    {
      "cell_type": "code",
      "metadata": {
        "scrolled": false,
        "id": "DT29lNkLGLix",
        "outputId": "32a78d59-046c-400d-d3e4-bc905ae27bd7"
      },
      "source": [
        "probs_sorted_0 = pd.Series(predict_0, index=target_valid_0.index).sort_values(ascending=False)\n",
        "selected_max_0 = probs_sorted_0[:200]\n",
        "selected_max_0"
      ],
      "execution_count": null,
      "outputs": [
        {
          "output_type": "execute_result",
          "data": {
            "text/plain": [
              "46784    176.583603\n",
              "27658    176.280262\n",
              "6496     173.285331\n",
              "65743    172.846546\n",
              "93716    172.666622\n",
              "            ...    \n",
              "65549    146.982832\n",
              "9462     146.980565\n",
              "39838    146.952343\n",
              "65925    146.923467\n",
              "14042    146.910721\n",
              "Length: 200, dtype: float64"
            ]
          },
          "metadata": {
            "tags": []
          },
          "execution_count": 42
        }
      ]
    },
    {
      "cell_type": "markdown",
      "metadata": {
        "id": "wlk9LLRbGLix"
      },
      "source": [
        "<a id=\"step_4.1\"></a>\n",
        "## Просуммируем целевое значение объёма сырья, соответствующее этим предсказаниям"
      ]
    },
    {
      "cell_type": "markdown",
      "metadata": {
        "id": "OMQPCtLWGLix"
      },
      "source": [
        "##### т.к. затраты на разработку будут пущены только на 200 скважин, просуммируем показатели скважин исходя из максимальных значений предсказаний нашей модели по объёму сырья для получения максимальной прибыли."
      ]
    },
    {
      "cell_type": "code",
      "metadata": {
        "id": "mU8F3k87GLix",
        "outputId": "3a582c69-098d-4049-da64-09ecd7e9e0d8"
      },
      "source": [
        "selected_max_0_sum = selected_max_0.sum()\n",
        "print('Суммарный запас сырья в 200 лучших скважинах составит: %.2f тыс.баррелей'%selected_max_0_sum)"
      ],
      "execution_count": null,
      "outputs": [
        {
          "output_type": "stream",
          "text": [
            "Суммарный запас сырья в 200 лучших скважинах составит: 30881.96 тыс.баррелей\n"
          ],
          "name": "stdout"
        }
      ]
    },
    {
      "cell_type": "markdown",
      "metadata": {
        "id": "RSdTsmE-GLiy"
      },
      "source": [
        "<a id=\"step_4.2\"></a>\n",
        "## Рассчитаем прибыль для полученного объёма сырья "
      ]
    },
    {
      "cell_type": "code",
      "metadata": {
        "id": "7tSo6XXiGLiy",
        "outputId": "8e5d0cf2-bb30-4764-e481-ed87d75a8d53"
      },
      "source": [
        "profit_pred_0=(selected_max_0_sum*INCOME_ONE_PROD)-BUDGET\n",
        "print('Прибыль для полученного объёма сырья составит %.2f тыс.рублей'%profit_pred_0)"
      ],
      "execution_count": null,
      "outputs": [
        {
          "output_type": "stream",
          "text": [
            "Прибыль для полученного объёма сырья составит 3896881.76 тыс.рублей\n"
          ],
          "name": "stdout"
        }
      ]
    },
    {
      "cell_type": "markdown",
      "metadata": {
        "id": "x1D9fq8mGLiy"
      },
      "source": [
        "### Занесём все вычисления в функцию"
      ]
    },
    {
      "cell_type": "code",
      "metadata": {
        "id": "d1cVIkkPGLiy"
      },
      "source": [
        "def profit_for_vp(predict,target,count):\n",
        "    probs_sorted = pd.Series(predict, index=target.index).sort_values(ascending=False)\n",
        "    selected_max = probs_sorted[:count].sum()\n",
        "    profit_pred=(selected_max*INCOME_ONE_PROD)-BUDGET\n",
        "    print('Суммарный запас сырья в 200 лучших скважинах составит: %.2f тыс.баррелей'%selected_max)\n",
        "    print('Прибыль для полученного объёма сырья составит %.2f млн.рублей'%(profit_pred/1000))"
      ],
      "execution_count": null,
      "outputs": []
    },
    {
      "cell_type": "markdown",
      "metadata": {
        "id": "Om6gdIM1GLiy"
      },
      "source": [
        "#### Профит: 1 регион"
      ]
    },
    {
      "cell_type": "code",
      "metadata": {
        "id": "BYXQPSgGGLiy",
        "outputId": "bbe41dab-8b57-48fa-b34c-99843adf5bfd"
      },
      "source": [
        "profit_for_vp(predict_0,target_valid_0,200)"
      ],
      "execution_count": null,
      "outputs": [
        {
          "output_type": "stream",
          "text": [
            "Суммарный запас сырья в 200 лучших скважинах составит: 30881.96 тыс.баррелей\n",
            "Прибыль для полученного объёма сырья составит 3896.88 млн.рублей\n"
          ],
          "name": "stdout"
        }
      ]
    },
    {
      "cell_type": "markdown",
      "metadata": {
        "id": "wSN0_OFuGLiz"
      },
      "source": [
        "#### Профит: 2 регион"
      ]
    },
    {
      "cell_type": "code",
      "metadata": {
        "id": "b_uLicVPGLiz",
        "outputId": "75eb06d5-40b0-4ba9-b851-d00df1e07961"
      },
      "source": [
        "profit_for_vp(predict_1,target_valid_1,200)"
      ],
      "execution_count": null,
      "outputs": [
        {
          "output_type": "stream",
          "text": [
            "Суммарный запас сырья в 200 лучших скважинах составит: 27748.75 тыс.баррелей\n",
            "Прибыль для полученного объёма сырья составит 2486.94 млн.рублей\n"
          ],
          "name": "stdout"
        }
      ]
    },
    {
      "cell_type": "markdown",
      "metadata": {
        "id": "ex50Rp6SGLiz"
      },
      "source": [
        "#### Профит: 3 регион"
      ]
    },
    {
      "cell_type": "code",
      "metadata": {
        "id": "4YLndz8LGLiz",
        "outputId": "b6c628e5-0a6d-4e46-d123-54a72827e9d8"
      },
      "source": [
        "profit_for_vp(predict_2,target_valid_2,200)"
      ],
      "execution_count": null,
      "outputs": [
        {
          "output_type": "stream",
          "text": [
            "Суммарный запас сырья в 200 лучших скважинах составит: 29730.68 тыс.баррелей\n",
            "Прибыль для полученного объёма сырья составит 3378.81 млн.рублей\n"
          ],
          "name": "stdout"
        }
      ]
    },
    {
      "cell_type": "markdown",
      "metadata": {
        "id": "lSZ1j7ggGLi0"
      },
      "source": [
        "<a id=\"step_4.end\"></a>\n",
        "## Вывод"
      ]
    },
    {
      "cell_type": "markdown",
      "metadata": {
        "id": "ATZXRuvkGLi0"
      },
      "source": [
        "Отлично, все три региона потенциально прибыльные, для определения наиболее выгодного с точки зрения окупаемости вложений и рисков убытка проведём расчёт вероятности в следующей главе."
      ]
    },
    {
      "cell_type": "markdown",
      "metadata": {
        "id": "GzQN-gDkGLi0"
      },
      "source": [
        "---\n",
        "<a href='#start'>Вернуться к оглавлению</a>\n",
        "<a id=\"step_5.1\"></a>\n",
        "# 5. Расчёт прибыли и рисков "
      ]
    },
    {
      "cell_type": "markdown",
      "metadata": {
        "id": "DFNY_nZvGLi3"
      },
      "source": [
        "## Применим технику Bootstrap с 1000 выборок, чтобы найти распределение прибыли"
      ]
    },
    {
      "cell_type": "markdown",
      "metadata": {
        "id": "ZyGtbz9CGLi3"
      },
      "source": [
        "<a id=\"step_5.2\"></a>\n",
        "###  Найдём среднюю прибыль, 95%-й доверительный интервал и риск убытков"
      ]
    },
    {
      "cell_type": "markdown",
      "metadata": {
        "id": "JcgmIe5FGLi3"
      },
      "source": [
        "### При́быль\n",
        "##### - положительная разница между суммарными доходами (выручка от реализации товаров и услуг) и затратами на разработку  скважин\n",
        "### Убыток\n",
        "##### - уменьшение материальных и денежных ресурсов в результате превышения расходов над доходами (отрицательная прибыль)"
      ]
    },
    {
      "cell_type": "code",
      "metadata": {
        "id": "7_f78c97GLi3"
      },
      "source": [
        "def profit_for_vp2(predict,target,count):\n",
        "    probs_sorted = pd.Series(predict).sort_values(ascending=False)\n",
        "    selected_points = target[probs_sorted.index][:count]\n",
        "    product = selected_points.sum()\n",
        "    revenue = product * INCOME_ONE_PROD\n",
        "    return revenue - BUDGET"
      ],
      "execution_count": null,
      "outputs": []
    },
    {
      "cell_type": "code",
      "metadata": {
        "id": "eOKJhBwHGLi4"
      },
      "source": [
        "def bootstap_1000(target,predict):\n",
        "    values = []\n",
        "    count=0\n",
        "    state = np.random.RandomState(12345)\n",
        "    predict_e = pd.Series(predict, index=target.index)\n",
        "    \n",
        "    for i in tqdm(range(1000)):\n",
        "        target_subsample = target.sample(n=500,replace=True, random_state=state)\n",
        "  \n",
        "        probs_subsample = predict_e[target_subsample.index]\n",
        "        values.append(profit_for_vp2(probs_subsample,target_subsample, 200))  \n",
        "    for i in values:\n",
        "        if i < 0:\n",
        "            count +=1\n",
        "            \n",
        "    values = pd.Series(values)\n",
        "    mean = values.mean()\n",
        "    confidence_interval = st.t.interval(0.95, len(values)-1, values.mean(), values.sem())\n",
        "    \n",
        "    plt.title('Распределение прибыли')\n",
        "    values.plot(kind=\"hist\", grid=True, figsize=(8,5))\n",
        "    plt.xlabel('Прибыль, тыс.руб')\n",
        "    plt.ylabel('Количество')\n",
        "    plt.show()\n",
        "    \n",
        "    low_95 = values.quantile(0.025)\n",
        "    high_95 = values.quantile(0.975)\n",
        "    \n",
        "    print(\"Средняя прибыль: {:.2f} млн.руб\".format(mean/1000))\n",
        "    print('С вероятностью 95% прибыль в данном регионе будет составлять от: {:.2f} млн.руб до: {:.2f} млн.руб'.format((low_95/1000),(high_95/1000)))\n",
        "    print(\"95%-ый доверительный интервал: от {:.2f} млн.руб до {:.2f} млн.руб\". format((confidence_interval[0]/1000),(confidence_interval[1]/1000)))\n",
        "    print ('Процент вероятности убытка в данном регионе составит {:.1%}'.format(count/1000))\n"
      ],
      "execution_count": null,
      "outputs": []
    },
    {
      "cell_type": "markdown",
      "metadata": {
        "id": "8NDX2rcuGLi4"
      },
      "source": [
        "### Распределение прибыли 1 регион"
      ]
    },
    {
      "cell_type": "code",
      "metadata": {
        "colab": {
          "referenced_widgets": [
            "6c0d3b9bf49e45acb35f08d3a7456589"
          ]
        },
        "id": "GKsCISDqGLi4",
        "outputId": "f2e27a4e-611c-473b-f09e-548668215899"
      },
      "source": [
        "bootstap_1000(target_valid_0,predict_0)"
      ],
      "execution_count": null,
      "outputs": [
        {
          "output_type": "display_data",
          "data": {
            "application/vnd.jupyter.widget-view+json": {
              "model_id": "6c0d3b9bf49e45acb35f08d3a7456589",
              "version_major": 2,
              "version_minor": 0
            },
            "text/plain": [
              "HBox(children=(FloatProgress(value=0.0, max=1000.0), HTML(value='')))"
            ]
          },
          "metadata": {
            "tags": []
          }
        },
        {
          "output_type": "stream",
          "text": [
            "\n"
          ],
          "name": "stdout"
        },
        {
          "output_type": "display_data",
          "data": {
            "image/png": "[encoded data removed]",
            "text/plain": [
              "<Figure size 576x360 with 1 Axes>"
            ]
          },
          "metadata": {
            "tags": [],
            "needs_background": "light"
          }
        },
        {
          "output_type": "stream",
          "text": [
            "Средняя прибыль: 435.84 млн.руб\n",
            "С вероятностью 95% прибыль в данном регионе будет составлять от: -124.97 млн.руб до: 966.50 млн.руб\n",
            "95%-ый доверительный интервал: от 418.61 млн.руб до 453.07 млн.руб\n",
            "Процент вероятности убытка в данном регионе составит 6.2%\n"
          ],
          "name": "stdout"
        }
      ]
    },
    {
      "cell_type": "markdown",
      "metadata": {
        "id": "kJfT93yYGLi4"
      },
      "source": [
        "### Распределение прибыли 2 регион"
      ]
    },
    {
      "cell_type": "code",
      "metadata": {
        "colab": {
          "referenced_widgets": [
            "9d1375acfb504ee8a8dde72548adec65"
          ]
        },
        "id": "nNb28fObGLi4",
        "outputId": "f9e0fcd8-5994-48a2-d42e-3266a8cbf5e7"
      },
      "source": [
        "bootstap_1000(target_valid_1,predict_1)"
      ],
      "execution_count": null,
      "outputs": [
        {
          "output_type": "display_data",
          "data": {
            "application/vnd.jupyter.widget-view+json": {
              "model_id": "9d1375acfb504ee8a8dde72548adec65",
              "version_major": 2,
              "version_minor": 0
            },
            "text/plain": [
              "HBox(children=(FloatProgress(value=0.0, max=1000.0), HTML(value='')))"
            ]
          },
          "metadata": {
            "tags": []
          }
        },
        {
          "output_type": "stream",
          "text": [
            "\n"
          ],
          "name": "stdout"
        },
        {
          "output_type": "display_data",
          "data": {
            "image/png": "[encoded data removed]",
            "text/plain": [
              "<Figure size 576x360 with 1 Axes>"
            ]
          },
          "metadata": {
            "tags": [],
            "needs_background": "light"
          }
        },
        {
          "output_type": "stream",
          "text": [
            "Средняя прибыль: 489.66 млн.руб\n",
            "С вероятностью 95% прибыль в данном регионе будет составлять от: 55.12 млн.руб до: 905.76 млн.руб\n",
            "95%-ый доверительный интервал: от 476.24 млн.руб до 503.09 млн.руб\n",
            "Процент вероятности убытка в данном регионе составит 1.1%\n"
          ],
          "name": "stdout"
        }
      ]
    },
    {
      "cell_type": "markdown",
      "metadata": {
        "id": "45nww6EZGLi4"
      },
      "source": [
        "### Распределение прибыли 3 регион"
      ]
    },
    {
      "cell_type": "code",
      "metadata": {
        "colab": {
          "referenced_widgets": [
            "5b5bc381477c44f7b078a6bc585b202a"
          ]
        },
        "id": "tAba1MtiGLi5",
        "outputId": "9e2f7915-9483-4c20-93fd-df28d95439f6"
      },
      "source": [
        "bootstap_1000(target_valid_2,predict_2)"
      ],
      "execution_count": null,
      "outputs": [
        {
          "output_type": "display_data",
          "data": {
            "application/vnd.jupyter.widget-view+json": {
              "model_id": "5b5bc381477c44f7b078a6bc585b202a",
              "version_major": 2,
              "version_minor": 0
            },
            "text/plain": [
              "HBox(children=(FloatProgress(value=0.0, max=1000.0), HTML(value='')))"
            ]
          },
          "metadata": {
            "tags": []
          }
        },
        {
          "output_type": "stream",
          "text": [
            "\n"
          ],
          "name": "stdout"
        },
        {
          "output_type": "display_data",
          "data": {
            "image/png": "[encoded data removed]",
            "text/plain": [
              "<Figure size 576x360 with 1 Axes>"
            ]
          },
          "metadata": {
            "tags": [],
            "needs_background": "light"
          }
        },
        {
          "output_type": "stream",
          "text": [
            "Средняя прибыль: 403.95 млн.руб\n",
            "С вероятностью 95% прибыль в данном регионе будет составлять от: -142.15 млн.руб до: 958.29 млн.руб\n",
            "95%-ый доверительный интервал: от 386.55 млн.руб до 421.35 млн.руб\n",
            "Процент вероятности убытка в данном регионе составит 7.0%\n"
          ],
          "name": "stdout"
        }
      ]
    },
    {
      "cell_type": "markdown",
      "metadata": {
        "id": "Js7-r2ZhGLi5"
      },
      "source": [
        "<a id=\"step_5.3\"></a>\n",
        "### Выбор региона"
      ]
    },
    {
      "cell_type": "markdown",
      "metadata": {
        "id": "tbS6iPhAGLi5"
      },
      "source": [
        "##### После оценки рисков оставим лишь те регионы, в которых вероятность убытков меньше 2.5%. Среди них выберем регион с наибольшей средней прибылью"
      ]
    },
    {
      "cell_type": "markdown",
      "metadata": {
        "id": "sGZ82swrGLi6"
      },
      "source": [
        "#### Сравним среднюю прибыль,  вероятность убытка и суммарный запас сырья трёх представленных регионов в таблице"
      ]
    },
    {
      "cell_type": "code",
      "metadata": {
        "scrolled": true,
        "id": "B7wvYawnGLi6",
        "outputId": "9494558d-8a9d-453d-f736-ec4440dc27d0"
      },
      "source": [
        "comparison_tabl = pd.DataFrame(index=['Средняя прибыль в регионе, млн.руб','Суммарный запас сырья, тыс.баррелей','Вероятность убытка, %'], columns=['1 регион','2 регион','3 регион'])\n",
        "comparison_tabl['1 регион'] = '435.84', '30881.96','6.2'\n",
        "comparison_tabl['2 регион'] = '489.66', '27748.75','1.1'\n",
        "comparison_tabl['3 регион'] = '403.95', '29730.68','7.0'\n",
        "comparison_tabl"
      ],
      "execution_count": null,
      "outputs": [
        {
          "output_type": "execute_result",
          "data": {
            "text/html": [
              "<div>\n",
              "<style scoped>\n",
              "    .dataframe tbody tr th:only-of-type {\n",
              "        vertical-align: middle;\n",
              "    }\n",
              "\n",
              "    .dataframe tbody tr th {\n",
              "        vertical-align: top;\n",
              "    }\n",
              "\n",
              "    .dataframe thead th {\n",
              "        text-align: right;\n",
              "    }\n",
              "</style>\n",
              "<table border=\"1\" class=\"dataframe\">\n",
              "  <thead>\n",
              "    <tr style=\"text-align: right;\">\n",
              "      <th></th>\n",
              "      <th>1 регион</th>\n",
              "      <th>2 регион</th>\n",
              "      <th>3 регион</th>\n",
              "    </tr>\n",
              "  </thead>\n",
              "  <tbody>\n",
              "    <tr>\n",
              "      <td>Средняя прибыль в регионе, млн.руб</td>\n",
              "      <td>435.84</td>\n",
              "      <td>489.66</td>\n",
              "      <td>403.95</td>\n",
              "    </tr>\n",
              "    <tr>\n",
              "      <td>Суммарный запас сырья, тыс.баррелей</td>\n",
              "      <td>30881.96</td>\n",
              "      <td>27748.75</td>\n",
              "      <td>29730.68</td>\n",
              "    </tr>\n",
              "    <tr>\n",
              "      <td>Вероятность убытка, %</td>\n",
              "      <td>6.2</td>\n",
              "      <td>1.1</td>\n",
              "      <td>7.0</td>\n",
              "    </tr>\n",
              "  </tbody>\n",
              "</table>\n",
              "</div>"
            ],
            "text/plain": [
              "                                     1 регион  2 регион  3 регион\n",
              "Средняя прибыль в регионе, млн.руб     435.84    489.66    403.95\n",
              "Суммарный запас сырья, тыс.баррелей  30881.96  27748.75  29730.68\n",
              "Вероятность убытка, %                     6.2       1.1       7.0"
            ]
          },
          "metadata": {
            "tags": []
          },
          "execution_count": 54
        }
      ]
    },
    {
      "cell_type": "code",
      "metadata": {
        "id": "CX5RkhKyGLi7",
        "outputId": "2617a59e-9f8e-4e29-c935-40292210b94e"
      },
      "source": [
        "comparison_tabl.astype('float').iloc[0,:].plot(kind=\"bar\", figsize=(8,5), grid=True, alpha=0.7, subplots=True)\n",
        "plt.title('Средняя прибыль трёх представленных регионов')\n",
        "plt.ylabel('Средняя прибыль в регионе, млн.руб')\n",
        "plt.show()"
      ],
      "execution_count": null,
      "outputs": [
        {
          "output_type": "display_data",
          "data": {
            "image/png": "[encoded data removed]",
            "text/plain": [
              "<Figure size 576x360 with 1 Axes>"
            ]
          },
          "metadata": {
            "tags": [],
            "needs_background": "light"
          }
        }
      ]
    },
    {
      "cell_type": "code",
      "metadata": {
        "id": "Y_YbtzDiGLi9",
        "outputId": "8b986a6e-ad3e-45d2-eace-cebc273efac6"
      },
      "source": [
        "comparison_tabl.astype('float').iloc[1,:].plot(kind='pie', figsize=(6,6),autopct='%1.1f%%', subplots=True)\n",
        "plt.title('Суммарный запас сырья, тыс.баррелей')\n",
        "plt.ylabel('')\n",
        "plt.show()"
      ],
      "execution_count": null,
      "outputs": [
        {
          "output_type": "display_data",
          "data": {
            "image/png": "[encoded data removed]",
            "text/plain": [
              "<Figure size 432x432 with 1 Axes>"
            ]
          },
          "metadata": {
            "tags": []
          }
        }
      ]
    },
    {
      "cell_type": "markdown",
      "metadata": {
        "id": "q7VanfNPGLi-"
      },
      "source": [
        "<a id=\"step_5.end\"></a>\n",
        "## Вывод"
      ]
    },
    {
      "cell_type": "markdown",
      "metadata": {
        "id": "3VfADOngGLi-"
      },
      "source": [
        "Согласно распределению среднего значения прибыли с региона, самым прибыльным оказался `2 регион`, средняя прибыль в этом регионе составит *489.66 млн.рублей*. Два других региона не прошли отбор по минимально допустимому порогу убытка в *2,5%*. Таким образом не смотря на сравнительно меньшие запасы сырья, по сравнению с другими регионами, средняя доходность со скважин во втором регионе прогнозируется выше других."
      ]
    },
    {
      "cell_type": "markdown",
      "metadata": {
        "id": "SgBpPzLrGLi-"
      },
      "source": [
        "---\n",
        "<a href='#start'>Вернуться к оглавлению</a>\n",
        "<a id=\"step_6.end\"></a>\n",
        "# 6. Вывод"
      ]
    },
    {
      "cell_type": "markdown",
      "metadata": {
        "id": "Bu0_iIgEGLi-"
      },
      "source": [
        "Мы исследовали данные по запасам в скважинах трёх регионов, в каждом из которых были данные о запасах сырья по *10 тыс.скважинам*. При первом знакомстве с данными мы обнаружили, что средний запас ресурсов по регионам недостаточен даже для окупаемости вложений на разработку и для того, чтобы иметь уверенность в перспективе разработки по регионам, мы обучили модель и выполнили предсказания при помощи `линейной регрессии`, а так же применили технологию `bootstrap` с разделением каждого предсказанного значения прибыли по регионам на *1000 выборок*. <br>\n",
        "\n",
        "По результату полученных данных мы определили доверительный интревал получения прибыли в *95%*, ограничив вероятность убытка величиной менее *2,5%*. И на основе этих данных смогли выбрать более перспективный регион для разработки *200 скважин*. <br>\n",
        "\n",
        "Таким образом не смотря на сравнительно меньшие предсказания запасов сырья в *27.75 млн.баррелей* (по сравнению с другими регионами), с величиной вероятного возникновения убытка в 1,1%, но с превышающей средней прибылью в *489.66 млн.рублей* мы сдели выбор в сторону разработки *200 скважин* во `2 регионе`."
      ]
    }
  ]
}